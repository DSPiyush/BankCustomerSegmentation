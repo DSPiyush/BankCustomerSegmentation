{
 "cells": [
  {
   "cell_type": "markdown",
   "id": "f33c4599-3508-4307-833d-f7d3e815d234",
   "metadata": {},
   "source": [
    "### Import Necessary Libraries"
   ]
  },
  {
   "cell_type": "code",
   "execution_count": 10,
   "id": "260feb96-9da6-4fa8-9843-23d7f406febe",
   "metadata": {},
   "outputs": [],
   "source": [
    "from pyspark.sql import SparkSession\n",
    "import pyspark.pandas as pd\n",
    "from pyspark.sql.types import StructType, StructField, StringType, IntegerType, DateType, TimestampType, DoubleType\n",
    "from pyspark.sql.functions import to_date,from_unixtime, unix_timestamp, col, datediff, lit, array\n",
    "from pyspark.ml.feature import StringIndexer\n",
    "from pyspark.ml.feature import MinMaxScaler,VectorAssembler\n",
    "from pyspark.ml.linalg import Vectors\n",
    "from pyspark.ml.clustering import KMeans, BisectingKMeans\n",
    "import matplotlib.pyplot as plt\n",
    "from pyspark.ml.evaluation import ClusteringEvaluator\n",
    "from scipy.cluster.hierarchy import dendrogram, linkage\n",
    "import warnings\n",
    "warnings.filterwarnings('ignore')\n",
    "from pyspark.sql import functions as F"
   ]
  },
  {
   "cell_type": "markdown",
   "id": "ea9b76b8-9e28-4937-b072-241c534bea4a",
   "metadata": {},
   "source": [
    "### Creating a Spark Object"
   ]
  },
  {
   "cell_type": "code",
   "execution_count": 2,
   "id": "38635469-2e83-4e79-bf39-1b89c137ae57",
   "metadata": {},
   "outputs": [
    {
     "name": "stderr",
     "output_type": "stream",
     "text": [
      "23/08/25 14:01:22 WARN Utils: Your hostname, myUbuntu resolves to a loopback address: 127.0.1.1; using 192.168.1.149 instead (on interface wlo1)\n",
      "23/08/25 14:01:22 WARN Utils: Set SPARK_LOCAL_IP if you need to bind to another address\n",
      "Setting default log level to \"WARN\".\n",
      "To adjust logging level use sc.setLogLevel(newLevel). For SparkR, use setLogLevel(newLevel).\n",
      "23/08/25 14:01:23 WARN NativeCodeLoader: Unable to load native-hadoop library for your platform... using builtin-java classes where applicable\n"
     ]
    }
   ],
   "source": [
    "spark = SparkSession.builder.getOrCreate()"
   ]
  },
  {
   "cell_type": "markdown",
   "id": "7a4bf8f9-7f4b-4bc2-8ef4-e7e319fdc4d0",
   "metadata": {},
   "source": [
    "### Loading the Data Set \n",
    "\n",
    "1. As we have the header already in the dataset.\n",
    "2. We have **header** as **true** in the below code, as well as initially we are letting spark object decide the schema as well, hence **infershema** is **True** as well"
   ]
  },
  {
   "cell_type": "code",
   "execution_count": 3,
   "id": "d61dc399-e6eb-4100-9c10-2824ed4cdbc6",
   "metadata": {
    "scrolled": true
   },
   "outputs": [
    {
     "name": "stderr",
     "output_type": "stream",
     "text": [
      "                                                                                \r"
     ]
    }
   ],
   "source": [
    "csv_file_path = r\"/home/hadoop/CustomerSegmentation/BankCustomerSegmentation/bank_transactions.csv\"\n",
    "sdf = spark.read.option(\"header\",\"true\").csv(csv_file_path, inferSchema = True)"
   ]
  },
  {
   "cell_type": "markdown",
   "id": "3caf1231-723b-48f7-887a-f9b7bf2eb737",
   "metadata": {},
   "source": [
    "### Creating a a backup data set of the original one right at the start"
   ]
  },
  {
   "cell_type": "code",
   "execution_count": 4,
   "id": "c8144d01-a5a0-40a5-94fc-9b565fdeea5e",
   "metadata": {},
   "outputs": [],
   "source": [
    "backup_df = sdf# creating a Backup"
   ]
  },
  {
   "cell_type": "markdown",
   "id": "9ddf8880-5269-495c-aeeb-33f411e198ec",
   "metadata": {},
   "source": [
    "#### Changing the type of CustomerDOB as the infershcema was not able to identify the column as a DateType()"
   ]
  },
  {
   "cell_type": "code",
   "execution_count": 5,
   "id": "69d06f9e-6fb3-41c7-b24b-70507e767158",
   "metadata": {
    "scrolled": true
   },
   "outputs": [
    {
     "name": "stdout",
     "output_type": "stream",
     "text": [
      "+-------------+----------+-----------+----------+------------+------------------+---------------+---------------+-----------------------+\n",
      "|TransactionID|CustomerID|CustomerDOB|CustGender|CustLocation|CustAccountBalance|TransactionDate|TransactionTime|TransactionAmount (INR)|\n",
      "+-------------+----------+-----------+----------+------------+------------------+---------------+---------------+-----------------------+\n",
      "|           T1|  C5841053| 1994-01-10|         F|  JAMSHEDPUR|          17819.05|     2016-08-02|         143207|                   25.0|\n",
      "|           T2|  C2142763| 1957-04-04|         M|     JHAJJAR|           2270.69|     2016-08-02|         141858|                27999.0|\n",
      "|           T3|  C4417068| 1996-11-26|         F|      MUMBAI|          17874.44|     2016-08-02|         142712|                  459.0|\n",
      "|           T4|  C5342380| 1973-09-14|         F|      MUMBAI|         866503.21|     2016-08-02|         142714|                 2060.0|\n",
      "|           T5|  C9031234| 1988-03-24|         F| NAVI MUMBAI|           6714.43|     2016-08-02|         181156|                 1762.5|\n",
      "+-------------+----------+-----------+----------+------------+------------------+---------------+---------------+-----------------------+\n",
      "only showing top 5 rows\n",
      "\n"
     ]
    }
   ],
   "source": [
    "sdf = sdf.withColumn(\"CustomerDOB\",sdf[\"CustomerDOB\"].cast(DateType()))   # Converting the CustomerDOB to DateType()\n",
    "sdf.show(5)"
   ]
  },
  {
   "cell_type": "markdown",
   "id": "b039b4a0-773c-4846-a4e9-81a7b12fffbc",
   "metadata": {},
   "source": [
    "#### We are creating a list of numberical columns with List Comprehension in the below step, the aim is to use the describe method on all the numerical columns"
   ]
  },
  {
   "cell_type": "code",
   "execution_count": 6,
   "id": "630a3839-6729-45a4-8b24-d6abc763caac",
   "metadata": {},
   "outputs": [
    {
     "name": "stdout",
     "output_type": "stream",
     "text": [
      "+-------+------------------+------------------+-----------------------+\n",
      "|summary|CustAccountBalance|   TransactionTime|TransactionAmount (INR)|\n",
      "+-------+------------------+------------------+-----------------------+\n",
      "|  count|           1046198|           1048567|                1048567|\n",
      "|   mean| 115403.5400562223|157087.52939297154|     1574.3350034571101|\n",
      "| stddev| 846485.3806006606| 51261.85402232943|      6574.742978454006|\n",
      "|    min|               0.0|                 0|                    0.0|\n",
      "|    max|     1.150354951E8|            235959|             1560034.99|\n",
      "+-------+------------------+------------------+-----------------------+\n",
      "\n"
     ]
    }
   ],
   "source": [
    "numeric_columns = sdf.select([col for col, dtype in sdf.dtypes if dtype == \"double\" or dtype == \"int\"])\n",
    "numeric_columns.describe().show()"
   ]
  },
  {
   "cell_type": "markdown",
   "id": "8b786b97-a1ca-4072-9828-ecccca3679c7",
   "metadata": {},
   "source": [
    "### We can afford to remove the NaN values, as the column with highest number of null value only consists of 5.5 percent of null values"
   ]
  },
  {
   "cell_type": "code",
   "execution_count": 11,
   "id": "1ecb65cd-ee36-4148-af03-6e8344e227d9",
   "metadata": {
    "scrolled": true
   },
   "outputs": [
    {
     "name": "stderr",
     "output_type": "stream",
     "text": [
      "[Stage 6:=========================>                                (7 + 9) / 16]\r"
     ]
    },
    {
     "name": "stdout",
     "output_type": "stream",
     "text": [
      "+-------------+----------+-----------+----------+------------+------------------+---------------+---------------+-----------------------+\n",
      "|TransactionID|CustomerID|CustomerDOB|CustGender|CustLocation|CustAccountBalance|TransactionDate|TransactionTime|TransactionAmount (INR)|\n",
      "+-------------+----------+-----------+----------+------------+------------------+---------------+---------------+-----------------------+\n",
      "|            0|         0|      60736|      1100|         151|              2369|              0|              0|                      0|\n",
      "+-------------+----------+-----------+----------+------------+------------------+---------------+---------------+-----------------------+\n",
      "\n"
     ]
    },
    {
     "name": "stderr",
     "output_type": "stream",
     "text": [
      "                                                                                \r"
     ]
    }
   ],
   "source": [
    "null_counts = sdf.agg(*[F.sum(F.col(column).isNull().cast(\"int\")).alias(column) for column in sdf.columns])\n",
    "null_counts.show()"
   ]
  },
  {
   "cell_type": "code",
   "execution_count": 7,
   "id": "86ea3a79-d25a-4760-ac2c-388cebb44738",
   "metadata": {},
   "outputs": [
    {
     "name": "stdout",
     "output_type": "stream",
     "text": [
      "Shape before dropping the na values : (1048567,9)\n"
     ]
    }
   ],
   "source": [
    "print(f\"Shape before dropping the na values : ({sdf.count()},{len(sdf.columns)})\")\n",
    "sdf = sdf.na.drop()\n",
    "print(f\"Shape after dropping the na values : ({sdf.count()},{len(sdf.columns)})\")\n",
    "sdf.show(truncate=False)"
   ]
  },
  {
   "cell_type": "markdown",
   "id": "cfefdac6-0c7e-47b5-8f35-5025313f386f",
   "metadata": {},
   "source": [
    "#### Here as we have the birth date, we will calculate the age of the Customer at the time he made the transaction \n",
    "#####  TransactionDate - CustomerDate = No. of days (Will give us number of days between the 2 Date Columns)\n",
    "#####  No. of Days / 365 - is going to give us float of years \n",
    "#####  Casting it to the IntegerType  as the age is always said to be as a whole Number\n",
    "#####  As now we are creating a correlated column of Age, we should drop the CustomerDOB column for reducing the Multicolliearity "
   ]
  },
  {
   "cell_type": "code",
   "execution_count": 11,
   "id": "a5f15e26-1417-4e09-b261-af778bfa5e22",
   "metadata": {},
   "outputs": [],
   "source": [
    "sdf = sdf.withColumn('CustomerAge', datediff('TransactionDate','CustomerDOB')/365)\n",
    "sdf = sdf.withColumn('CustomerAge', col('CustomerAge').cast(IntegerType()))\n",
    "sdf.show()\n",
    "sdf = sdf.drop(\"CustomerDOB\")"
   ]
  },
  {
   "cell_type": "markdown",
   "id": "21004afa-b35c-43b4-8e13-907e461b959d",
   "metadata": {},
   "source": [
    "### Now let us try to acheive the Encoding in a few specific columns.\n",
    "\n",
    "##### StringIndexer comes in handy for PySpark if we need to have Numbers(Float Values) assigned to Strings\n",
    "##### Again now we can go ahead and drop the CustGender Column"
   ]
  },
  {
   "cell_type": "markdown",
   "id": "a4d36c1a-790c-4308-97d5-64e39554a293",
   "metadata": {},
   "source": [
    "#### Encoding the CustGender column"
   ]
  },
  {
   "cell_type": "code",
   "execution_count": 39,
   "id": "34bb787c-6f23-4475-9ef3-237e754fe949",
   "metadata": {
    "scrolled": true
   },
   "outputs": [
    {
     "ename": "Py4JJavaError",
     "evalue": "An error occurred while calling o987234.fit.\n: org.apache.spark.SparkException: Input column CustGender does not exist.\n\tat org.apache.spark.ml.feature.StringIndexerBase.$anonfun$validateAndTransformSchema$2(StringIndexer.scala:128)\n\tat scala.collection.TraversableLike.$anonfun$flatMap$1(TraversableLike.scala:293)\n\tat scala.collection.IndexedSeqOptimized.foreach(IndexedSeqOptimized.scala:36)\n\tat scala.collection.IndexedSeqOptimized.foreach$(IndexedSeqOptimized.scala:33)\n\tat scala.collection.mutable.ArrayOps$ofRef.foreach(ArrayOps.scala:198)\n\tat scala.collection.TraversableLike.flatMap(TraversableLike.scala:293)\n\tat scala.collection.TraversableLike.flatMap$(TraversableLike.scala:290)\n\tat scala.collection.mutable.ArrayOps$ofRef.flatMap(ArrayOps.scala:198)\n\tat org.apache.spark.ml.feature.StringIndexerBase.validateAndTransformSchema(StringIndexer.scala:123)\n\tat org.apache.spark.ml.feature.StringIndexerBase.validateAndTransformSchema$(StringIndexer.scala:115)\n\tat org.apache.spark.ml.feature.StringIndexer.validateAndTransformSchema(StringIndexer.scala:145)\n\tat org.apache.spark.ml.feature.StringIndexer.transformSchema(StringIndexer.scala:252)\n\tat org.apache.spark.ml.PipelineStage.transformSchema(Pipeline.scala:71)\n\tat org.apache.spark.ml.feature.StringIndexer.fit(StringIndexer.scala:237)\n\tat sun.reflect.NativeMethodAccessorImpl.invoke0(Native Method)\n\tat sun.reflect.NativeMethodAccessorImpl.invoke(NativeMethodAccessorImpl.java:62)\n\tat sun.reflect.DelegatingMethodAccessorImpl.invoke(DelegatingMethodAccessorImpl.java:43)\n\tat java.lang.reflect.Method.invoke(Method.java:498)\n\tat py4j.reflection.MethodInvoker.invoke(MethodInvoker.java:244)\n\tat py4j.reflection.ReflectionEngine.invoke(ReflectionEngine.java:374)\n\tat py4j.Gateway.invoke(Gateway.java:282)\n\tat py4j.commands.AbstractCommand.invokeMethod(AbstractCommand.java:132)\n\tat py4j.commands.CallCommand.execute(CallCommand.java:79)\n\tat py4j.ClientServerConnection.waitForCommands(ClientServerConnection.java:182)\n\tat py4j.ClientServerConnection.run(ClientServerConnection.java:106)\n\tat java.lang.Thread.run(Thread.java:750)\n",
     "output_type": "error",
     "traceback": [
      "\u001b[0;31m---------------------------------------------------------------------------\u001b[0m",
      "\u001b[0;31mPy4JJavaError\u001b[0m                             Traceback (most recent call last)",
      "Cell \u001b[0;32mIn[39], line 2\u001b[0m\n\u001b[1;32m      1\u001b[0m indexer \u001b[38;5;241m=\u001b[39m StringIndexer(inputCol\u001b[38;5;241m=\u001b[39m\u001b[38;5;124m'\u001b[39m\u001b[38;5;124mCustGender\u001b[39m\u001b[38;5;124m'\u001b[39m, outputCol\u001b[38;5;241m=\u001b[39m\u001b[38;5;124m'\u001b[39m\u001b[38;5;124mGenderEncoded\u001b[39m\u001b[38;5;124m'\u001b[39m)\n\u001b[0;32m----> 2\u001b[0m sdf \u001b[38;5;241m=\u001b[39m \u001b[43mindexer\u001b[49m\u001b[38;5;241;43m.\u001b[39;49m\u001b[43mfit\u001b[49m\u001b[43m(\u001b[49m\u001b[43msdf\u001b[49m\u001b[43m)\u001b[49m\u001b[38;5;241m.\u001b[39mtransform(sdf)\n\u001b[1;32m      3\u001b[0m sdf \u001b[38;5;241m=\u001b[39m sdf\u001b[38;5;241m.\u001b[39mwithColumn(\u001b[38;5;124m'\u001b[39m\u001b[38;5;124mGenderEncoded\u001b[39m\u001b[38;5;124m'\u001b[39m, col(\u001b[38;5;124m'\u001b[39m\u001b[38;5;124mGenderEncoded\u001b[39m\u001b[38;5;124m'\u001b[39m)\u001b[38;5;241m.\u001b[39mcast(IntegerType()))\n\u001b[1;32m      4\u001b[0m sdf\u001b[38;5;241m.\u001b[39mshow(truncate \u001b[38;5;241m=\u001b[39m \u001b[38;5;28;01mFalse\u001b[39;00m)\n",
      "File \u001b[0;32m~/.local/lib/python3.8/site-packages/pyspark/ml/base.py:205\u001b[0m, in \u001b[0;36mEstimator.fit\u001b[0;34m(self, dataset, params)\u001b[0m\n\u001b[1;32m    203\u001b[0m         \u001b[38;5;28;01mreturn\u001b[39;00m \u001b[38;5;28mself\u001b[39m\u001b[38;5;241m.\u001b[39mcopy(params)\u001b[38;5;241m.\u001b[39m_fit(dataset)\n\u001b[1;32m    204\u001b[0m     \u001b[38;5;28;01melse\u001b[39;00m:\n\u001b[0;32m--> 205\u001b[0m         \u001b[38;5;28;01mreturn\u001b[39;00m \u001b[38;5;28;43mself\u001b[39;49m\u001b[38;5;241;43m.\u001b[39;49m\u001b[43m_fit\u001b[49m\u001b[43m(\u001b[49m\u001b[43mdataset\u001b[49m\u001b[43m)\u001b[49m\n\u001b[1;32m    206\u001b[0m \u001b[38;5;28;01melse\u001b[39;00m:\n\u001b[1;32m    207\u001b[0m     \u001b[38;5;28;01mraise\u001b[39;00m \u001b[38;5;167;01mTypeError\u001b[39;00m(\n\u001b[1;32m    208\u001b[0m         \u001b[38;5;124m\"\u001b[39m\u001b[38;5;124mParams must be either a param map or a list/tuple of param maps, \u001b[39m\u001b[38;5;124m\"\u001b[39m\n\u001b[1;32m    209\u001b[0m         \u001b[38;5;124m\"\u001b[39m\u001b[38;5;124mbut got \u001b[39m\u001b[38;5;132;01m%s\u001b[39;00m\u001b[38;5;124m.\u001b[39m\u001b[38;5;124m\"\u001b[39m \u001b[38;5;241m%\u001b[39m \u001b[38;5;28mtype\u001b[39m(params)\n\u001b[1;32m    210\u001b[0m     )\n",
      "File \u001b[0;32m~/.local/lib/python3.8/site-packages/pyspark/ml/wrapper.py:381\u001b[0m, in \u001b[0;36mJavaEstimator._fit\u001b[0;34m(self, dataset)\u001b[0m\n\u001b[1;32m    380\u001b[0m \u001b[38;5;28;01mdef\u001b[39;00m \u001b[38;5;21m_fit\u001b[39m(\u001b[38;5;28mself\u001b[39m, dataset: DataFrame) \u001b[38;5;241m-\u001b[39m\u001b[38;5;241m>\u001b[39m JM:\n\u001b[0;32m--> 381\u001b[0m     java_model \u001b[38;5;241m=\u001b[39m \u001b[38;5;28;43mself\u001b[39;49m\u001b[38;5;241;43m.\u001b[39;49m\u001b[43m_fit_java\u001b[49m\u001b[43m(\u001b[49m\u001b[43mdataset\u001b[49m\u001b[43m)\u001b[49m\n\u001b[1;32m    382\u001b[0m     model \u001b[38;5;241m=\u001b[39m \u001b[38;5;28mself\u001b[39m\u001b[38;5;241m.\u001b[39m_create_model(java_model)\n\u001b[1;32m    383\u001b[0m     \u001b[38;5;28;01mreturn\u001b[39;00m \u001b[38;5;28mself\u001b[39m\u001b[38;5;241m.\u001b[39m_copyValues(model)\n",
      "File \u001b[0;32m~/.local/lib/python3.8/site-packages/pyspark/ml/wrapper.py:378\u001b[0m, in \u001b[0;36mJavaEstimator._fit_java\u001b[0;34m(self, dataset)\u001b[0m\n\u001b[1;32m    375\u001b[0m \u001b[38;5;28;01massert\u001b[39;00m \u001b[38;5;28mself\u001b[39m\u001b[38;5;241m.\u001b[39m_java_obj \u001b[38;5;129;01mis\u001b[39;00m \u001b[38;5;129;01mnot\u001b[39;00m \u001b[38;5;28;01mNone\u001b[39;00m\n\u001b[1;32m    377\u001b[0m \u001b[38;5;28mself\u001b[39m\u001b[38;5;241m.\u001b[39m_transfer_params_to_java()\n\u001b[0;32m--> 378\u001b[0m \u001b[38;5;28;01mreturn\u001b[39;00m \u001b[38;5;28;43mself\u001b[39;49m\u001b[38;5;241;43m.\u001b[39;49m\u001b[43m_java_obj\u001b[49m\u001b[38;5;241;43m.\u001b[39;49m\u001b[43mfit\u001b[49m\u001b[43m(\u001b[49m\u001b[43mdataset\u001b[49m\u001b[38;5;241;43m.\u001b[39;49m\u001b[43m_jdf\u001b[49m\u001b[43m)\u001b[49m\n",
      "File \u001b[0;32m~/.local/lib/python3.8/site-packages/py4j/java_gateway.py:1322\u001b[0m, in \u001b[0;36mJavaMember.__call__\u001b[0;34m(self, *args)\u001b[0m\n\u001b[1;32m   1316\u001b[0m command \u001b[38;5;241m=\u001b[39m proto\u001b[38;5;241m.\u001b[39mCALL_COMMAND_NAME \u001b[38;5;241m+\u001b[39m\\\n\u001b[1;32m   1317\u001b[0m     \u001b[38;5;28mself\u001b[39m\u001b[38;5;241m.\u001b[39mcommand_header \u001b[38;5;241m+\u001b[39m\\\n\u001b[1;32m   1318\u001b[0m     args_command \u001b[38;5;241m+\u001b[39m\\\n\u001b[1;32m   1319\u001b[0m     proto\u001b[38;5;241m.\u001b[39mEND_COMMAND_PART\n\u001b[1;32m   1321\u001b[0m answer \u001b[38;5;241m=\u001b[39m \u001b[38;5;28mself\u001b[39m\u001b[38;5;241m.\u001b[39mgateway_client\u001b[38;5;241m.\u001b[39msend_command(command)\n\u001b[0;32m-> 1322\u001b[0m return_value \u001b[38;5;241m=\u001b[39m \u001b[43mget_return_value\u001b[49m\u001b[43m(\u001b[49m\n\u001b[1;32m   1323\u001b[0m \u001b[43m    \u001b[49m\u001b[43manswer\u001b[49m\u001b[43m,\u001b[49m\u001b[43m \u001b[49m\u001b[38;5;28;43mself\u001b[39;49m\u001b[38;5;241;43m.\u001b[39;49m\u001b[43mgateway_client\u001b[49m\u001b[43m,\u001b[49m\u001b[43m \u001b[49m\u001b[38;5;28;43mself\u001b[39;49m\u001b[38;5;241;43m.\u001b[39;49m\u001b[43mtarget_id\u001b[49m\u001b[43m,\u001b[49m\u001b[43m \u001b[49m\u001b[38;5;28;43mself\u001b[39;49m\u001b[38;5;241;43m.\u001b[39;49m\u001b[43mname\u001b[49m\u001b[43m)\u001b[49m\n\u001b[1;32m   1325\u001b[0m \u001b[38;5;28;01mfor\u001b[39;00m temp_arg \u001b[38;5;129;01min\u001b[39;00m temp_args:\n\u001b[1;32m   1326\u001b[0m     \u001b[38;5;28;01mif\u001b[39;00m \u001b[38;5;28mhasattr\u001b[39m(temp_arg, \u001b[38;5;124m\"\u001b[39m\u001b[38;5;124m_detach\u001b[39m\u001b[38;5;124m\"\u001b[39m):\n",
      "File \u001b[0;32m~/.local/lib/python3.8/site-packages/pyspark/errors/exceptions/captured.py:169\u001b[0m, in \u001b[0;36mcapture_sql_exception.<locals>.deco\u001b[0;34m(*a, **kw)\u001b[0m\n\u001b[1;32m    167\u001b[0m \u001b[38;5;28;01mdef\u001b[39;00m \u001b[38;5;21mdeco\u001b[39m(\u001b[38;5;241m*\u001b[39ma: Any, \u001b[38;5;241m*\u001b[39m\u001b[38;5;241m*\u001b[39mkw: Any) \u001b[38;5;241m-\u001b[39m\u001b[38;5;241m>\u001b[39m Any:\n\u001b[1;32m    168\u001b[0m     \u001b[38;5;28;01mtry\u001b[39;00m:\n\u001b[0;32m--> 169\u001b[0m         \u001b[38;5;28;01mreturn\u001b[39;00m \u001b[43mf\u001b[49m\u001b[43m(\u001b[49m\u001b[38;5;241;43m*\u001b[39;49m\u001b[43ma\u001b[49m\u001b[43m,\u001b[49m\u001b[43m \u001b[49m\u001b[38;5;241;43m*\u001b[39;49m\u001b[38;5;241;43m*\u001b[39;49m\u001b[43mkw\u001b[49m\u001b[43m)\u001b[49m\n\u001b[1;32m    170\u001b[0m     \u001b[38;5;28;01mexcept\u001b[39;00m Py4JJavaError \u001b[38;5;28;01mas\u001b[39;00m e:\n\u001b[1;32m    171\u001b[0m         converted \u001b[38;5;241m=\u001b[39m convert_exception(e\u001b[38;5;241m.\u001b[39mjava_exception)\n",
      "File \u001b[0;32m~/.local/lib/python3.8/site-packages/py4j/protocol.py:326\u001b[0m, in \u001b[0;36mget_return_value\u001b[0;34m(answer, gateway_client, target_id, name)\u001b[0m\n\u001b[1;32m    324\u001b[0m value \u001b[38;5;241m=\u001b[39m OUTPUT_CONVERTER[\u001b[38;5;28mtype\u001b[39m](answer[\u001b[38;5;241m2\u001b[39m:], gateway_client)\n\u001b[1;32m    325\u001b[0m \u001b[38;5;28;01mif\u001b[39;00m answer[\u001b[38;5;241m1\u001b[39m] \u001b[38;5;241m==\u001b[39m REFERENCE_TYPE:\n\u001b[0;32m--> 326\u001b[0m     \u001b[38;5;28;01mraise\u001b[39;00m Py4JJavaError(\n\u001b[1;32m    327\u001b[0m         \u001b[38;5;124m\"\u001b[39m\u001b[38;5;124mAn error occurred while calling \u001b[39m\u001b[38;5;132;01m{0}\u001b[39;00m\u001b[38;5;132;01m{1}\u001b[39;00m\u001b[38;5;132;01m{2}\u001b[39;00m\u001b[38;5;124m.\u001b[39m\u001b[38;5;130;01m\\n\u001b[39;00m\u001b[38;5;124m\"\u001b[39m\u001b[38;5;241m.\u001b[39m\n\u001b[1;32m    328\u001b[0m         \u001b[38;5;28mformat\u001b[39m(target_id, \u001b[38;5;124m\"\u001b[39m\u001b[38;5;124m.\u001b[39m\u001b[38;5;124m\"\u001b[39m, name), value)\n\u001b[1;32m    329\u001b[0m \u001b[38;5;28;01melse\u001b[39;00m:\n\u001b[1;32m    330\u001b[0m     \u001b[38;5;28;01mraise\u001b[39;00m Py4JError(\n\u001b[1;32m    331\u001b[0m         \u001b[38;5;124m\"\u001b[39m\u001b[38;5;124mAn error occurred while calling \u001b[39m\u001b[38;5;132;01m{0}\u001b[39;00m\u001b[38;5;132;01m{1}\u001b[39;00m\u001b[38;5;132;01m{2}\u001b[39;00m\u001b[38;5;124m. Trace:\u001b[39m\u001b[38;5;130;01m\\n\u001b[39;00m\u001b[38;5;132;01m{3}\u001b[39;00m\u001b[38;5;130;01m\\n\u001b[39;00m\u001b[38;5;124m\"\u001b[39m\u001b[38;5;241m.\u001b[39m\n\u001b[1;32m    332\u001b[0m         \u001b[38;5;28mformat\u001b[39m(target_id, \u001b[38;5;124m\"\u001b[39m\u001b[38;5;124m.\u001b[39m\u001b[38;5;124m\"\u001b[39m, name, value))\n",
      "\u001b[0;31mPy4JJavaError\u001b[0m: An error occurred while calling o987234.fit.\n: org.apache.spark.SparkException: Input column CustGender does not exist.\n\tat org.apache.spark.ml.feature.StringIndexerBase.$anonfun$validateAndTransformSchema$2(StringIndexer.scala:128)\n\tat scala.collection.TraversableLike.$anonfun$flatMap$1(TraversableLike.scala:293)\n\tat scala.collection.IndexedSeqOptimized.foreach(IndexedSeqOptimized.scala:36)\n\tat scala.collection.IndexedSeqOptimized.foreach$(IndexedSeqOptimized.scala:33)\n\tat scala.collection.mutable.ArrayOps$ofRef.foreach(ArrayOps.scala:198)\n\tat scala.collection.TraversableLike.flatMap(TraversableLike.scala:293)\n\tat scala.collection.TraversableLike.flatMap$(TraversableLike.scala:290)\n\tat scala.collection.mutable.ArrayOps$ofRef.flatMap(ArrayOps.scala:198)\n\tat org.apache.spark.ml.feature.StringIndexerBase.validateAndTransformSchema(StringIndexer.scala:123)\n\tat org.apache.spark.ml.feature.StringIndexerBase.validateAndTransformSchema$(StringIndexer.scala:115)\n\tat org.apache.spark.ml.feature.StringIndexer.validateAndTransformSchema(StringIndexer.scala:145)\n\tat org.apache.spark.ml.feature.StringIndexer.transformSchema(StringIndexer.scala:252)\n\tat org.apache.spark.ml.PipelineStage.transformSchema(Pipeline.scala:71)\n\tat org.apache.spark.ml.feature.StringIndexer.fit(StringIndexer.scala:237)\n\tat sun.reflect.NativeMethodAccessorImpl.invoke0(Native Method)\n\tat sun.reflect.NativeMethodAccessorImpl.invoke(NativeMethodAccessorImpl.java:62)\n\tat sun.reflect.DelegatingMethodAccessorImpl.invoke(DelegatingMethodAccessorImpl.java:43)\n\tat java.lang.reflect.Method.invoke(Method.java:498)\n\tat py4j.reflection.MethodInvoker.invoke(MethodInvoker.java:244)\n\tat py4j.reflection.ReflectionEngine.invoke(ReflectionEngine.java:374)\n\tat py4j.Gateway.invoke(Gateway.java:282)\n\tat py4j.commands.AbstractCommand.invokeMethod(AbstractCommand.java:132)\n\tat py4j.commands.CallCommand.execute(CallCommand.java:79)\n\tat py4j.ClientServerConnection.waitForCommands(ClientServerConnection.java:182)\n\tat py4j.ClientServerConnection.run(ClientServerConnection.java:106)\n\tat java.lang.Thread.run(Thread.java:750)\n"
     ]
    }
   ],
   "source": [
    "indexer = StringIndexer(inputCol='CustGender', outputCol='GenderEncoded')\n",
    "sdf = indexer.fit(sdf).transform(sdf)\n",
    "sdf = sdf.withColumn('GenderEncoded', col('GenderEncoded').cast(IntegerType()))\n",
    "sdf = sdf.drop(\"CustGender\")\n",
    "sdf.show()\n",
    "sdf.show(truncate = False)"
   ]
  },
  {
   "cell_type": "code",
   "execution_count": 38,
   "id": "7090504f-201f-48fa-9f23-34cb2695cef3",
   "metadata": {},
   "outputs": [
    {
     "name": "stderr",
     "output_type": "stream",
     "text": [
      "[Stage 1203:===>                                                  (1 + 15) / 16]\r"
     ]
    },
    {
     "name": "stdout",
     "output_type": "stream",
     "text": [
      "+-------------+------+\n",
      "|GenderEncoded| count|\n",
      "+-------------+------+\n",
      "|            1|272868|\n",
      "|            0|712454|\n",
      "+-------------+------+\n",
      "\n"
     ]
    },
    {
     "name": "stderr",
     "output_type": "stream",
     "text": [
      "                                                                                \r"
     ]
    }
   ],
   "source": [
    "sdf.groupBy(\"GenderEncoded\").count().show() # To check the the distribution of Gender with respect to the number of transactions done!"
   ]
  },
  {
   "cell_type": "markdown",
   "id": "469cf009-9c69-409a-a094-00f880f147f9",
   "metadata": {},
   "source": [
    "#### Endcoding the CustLocation Column"
   ]
  },
  {
   "cell_type": "code",
   "execution_count": 20,
   "id": "0cf64042-1de4-427e-869a-288e45ef0a5a",
   "metadata": {},
   "outputs": [
    {
     "name": "stderr",
     "output_type": "stream",
     "text": [
      "                                                                                \r"
     ]
    }
   ],
   "source": [
    "indexer_location = StringIndexer(inputCol='CustLocation', outputCol='LocationEncoded')\n",
    "sdf = indexer_location.fit(sdf).transform(sdf)\n",
    "sdf = sdf.withColumn('LocationEncoded', col('LocationEncoded').cast(IntegerType()))\n",
    "sdf = sdf.drop(\"CustLocation\")\n",
    "sdf.show()"
   ]
  },
  {
   "cell_type": "code",
   "execution_count": 23,
   "id": "bd3e4392-e915-4f41-bcab-3e9ae33415b1",
   "metadata": {},
   "outputs": [
    {
     "name": "stderr",
     "output_type": "stream",
     "text": [
      "                                                                                \r"
     ]
    },
    {
     "name": "stdout",
     "output_type": "stream",
     "text": [
      "+-------------+----------+------------------+---------------+---------------+-----------------------+-----------+-------------+---------------+-------------------------------------+---------------------------------------------------------------------------------------------------------+\n",
      "|TransactionID|CustomerID|CustAccountBalance|TransactionDate|TransactionTime|TransactionAmount (INR)|CustomerAge|GenderEncoded|LocationEncoded|features                             |scaled_features                                                                                          |\n",
      "+-------------+----------+------------------+---------------+---------------+-----------------------+-----------+-------------+---------------+-------------------------------------+---------------------------------------------------------------------------------------------------------+\n",
      "|T1           |C5841053  |17819.05          |2016-08-02     |143207         |25.0                   |22         |1            |61             |[17819.05,143207.0,25.0,22.0,61.0]   |[1.5490045037412108E-4,0.6069147606151917,1.6025281586793128E-5,0.3535353535353536,0.007472742864143085] |\n",
      "|T2           |C2142763  |2270.69           |2016-08-02     |141858         |27999.0                |59         |0            |106            |[2270.69,141858.0,27999.0,59.0,106.0]|[1.9739037920653066E-5,0.6011976656961592,0.01794767436594483,0.7272727272727273,0.012985422026215852]   |\n",
      "|T3           |C4417068  |17874.44          |2016-08-02     |142712         |459.0                  |19         |1            |0              |[17874.44,142712.0,459.0,19.0,0.0]   |[1.55381953930496E-4,0.6048169385359321,2.9422416993352184E-4,0.32323232323232326,0.0]                   |\n",
      "|T4           |C5342380  |866503.21         |2016-08-02     |142714         |2060.0                 |42         |1            |0              |[866503.21,142714.0,2060.0,42.0,0.0] |[0.007532485597134618,0.6048254145847373,0.0013204832027517537,0.5555555555555556,0.0]                   |\n",
      "|T5           |C9031234  |6714.43           |2016-08-02     |181156         |1762.5                 |28         |1            |12             |[6714.43,181156.0,1762.5,28.0,12.0]  |[5.8368332262691326E-5,0.7677435486673533,0.0011297823518689155,0.4141414141414142,0.001470047776552738] |\n",
      "|T6           |C1536588  |53609.2           |2016-08-02     |173940         |676.0                  |43         |1            |333            |[53609.2,173940.0,676.0,43.0,333.0]  |[4.6602311706832474E-4,0.7371619645785921,4.3332361410688616E-4,0.5656565656565657,0.04079382579933848]  |\n",
      "|T7           |C7126560  |973.46            |2016-08-02     |173806         |566.0                  |24         |1            |0              |[973.46,173806.0,566.0,24.0,0.0]     |[8.462257663634813E-6,0.7365940693086511,3.628123751249964E-4,0.37373737373737376,0.0]                   |\n",
      "|T8           |C1220223  |95075.54          |2016-08-02     |170537         |148.0                  |34         |0            |0              |[95075.54,170537.0,148.0,34.0,0.0]   |[8.264887278257126E-4,0.7227399675367331,9.486966699381531E-5,0.4747474747474748,0.0]                    |\n",
      "|T9           |C8536061  |14906.96          |2016-08-02     |192825         |833.0                  |28         |1            |3              |[14906.96,192825.0,833.0,28.0,3.0]   |[1.2958574209674523E-4,0.8171970554206451,5.33962382471947E-4,0.4141414141414142,3.675119441381845E-4]   |\n",
      "|T10          |C6638934  |4279.22           |2016-08-02     |192446         |289.11                 |32         |0            |0              |[4279.22,192446.0,289.11,32.0,0.0]   |[3.719912707186671E-5,0.8155908441720808,1.8532276638231045E-4,0.4545454545454546,0.0]                   |\n",
      "|T11          |C5430833  |48429.49          |2016-08-02     |204133         |259.0                  |34         |0            |18             |[48429.49,204133.0,259.0,34.0,18.0]  |[4.2099605828531785E-4,0.8651206353646185,1.660219172391768E-4,0.4747474747474748,0.002205071664829107]  |\n",
      "|T12          |C6939838  |14613.46          |2016-08-02     |205108         |202.0                  |28         |0            |35             |[14613.46,205108.0,202.0,28.0,35.0]  |[1.2703435567688531E-4,0.8692527091570994,1.2948427522128846E-4,0.4141414141414142,0.004287639348278819] |\n",
      "|T13          |C6339347  |32274.78          |2016-08-02     |203834         |12300.0                |38         |0            |13             |[32274.78,203834.0,12300.0,38.0,13.0]|[2.805636640407696E-4,0.8638534660682576,0.00788443854070222,0.5151515151515152,0.0015925517579321328]   |\n",
      "|T14          |C8327851  |59950.44          |2016-08-01     |84706          |50.0                   |24         |1            |9              |[59950.44,84706.0,50.0,24.0,9.0]     |[5.211473202065612E-4,0.3589860950419353,3.2050563173586256E-5,0.37373737373737376,0.0011025358324145535]|\n",
      "|T15          |C7917151  |10100.84          |2016-08-01     |82253          |338.0                  |38         |0            |7              |[10100.84,82253.0,338.0,38.0,7.0]    |[8.780628962581828E-5,0.3485902211824936,2.1666180705344308E-4,0.5151515151515152,8.575278696557639E-4]  |\n",
      "|T16          |C8334633  |1283.12           |2016-08-01     |125725         |250.0                  |48         |1            |2              |[1283.12,125725.0,250.0,48.0,2.0]    |[1.11541224635456E-5,0.5328256180099086,1.602528158679313E-4,0.6161616161616162,2.450079627587897E-4]    |\n",
      "|T18          |C8967349  |2177.85           |2016-08-01     |124734         |54.0                   |27         |0            |0              |[2177.85,124734.0,54.0,27.0,0.0]     |[1.8931982672885455E-5,0.5286257358269869,3.461460822747316E-5,0.4040404040404041,0.0]                   |\n",
      "|T19          |C3732016  |32816.17          |2016-08-01     |122135         |315.0                  |25         |0            |0              |[32816.17,122135.0,315.0,25.0,0.0]   |[2.8526995056154625E-4,0.5176111104047737,2.0191854799359341E-4,0.38383838383838387,0.0]                 |\n",
      "|T20          |C8999019  |10643.5           |2016-08-01     |152821         |945.0                  |31         |0            |7              |[10643.5,152821.0,945.0,31.0,7.0]    |[9.252361621730439E-5,0.6476591272212546,6.057556439807802E-4,0.4444444444444445,8.575278696557639E-4]   |\n",
      "|T21          |C6121429  |2934.22           |2016-08-01     |152824         |36.0                   |23         |0            |440            |[2934.22,152824.0,36.0,23.0,440.0]   |[2.5507083682730197E-5,0.6476718412944622,2.3076405484982106E-5,0.36363636363636365,0.053901751806933726]|\n",
      "+-------------+----------+------------------+---------------+---------------+-----------------------+-----------+-------------+---------------+-------------------------------------+---------------------------------------------------------------------------------------------------------+\n",
      "only showing top 20 rows\n",
      "\n"
     ]
    }
   ],
   "source": [
    "ip_columns = ['CustAccountBalance', 'TransactionTime','TransactionAmount (INR)','CustomerAge','LocationEncoded']\n",
    "# Assemble features into a Vector column\n",
    "assembler = VectorAssembler(inputCols=ip_columns, outputCol=\"features\")\n",
    "df = assembler.transform(sdf)\n",
    "\n",
    "\n",
    "scaler = MinMaxScaler(inputCol=\"features\", outputCol=\"scaled_features\") # Initialize the MinMaxScaler\n",
    "\n",
    "# Fit and transform the data using the scaler\n",
    "scaler_model = scaler.fit(df)\n",
    "scaled_df = scaler_model.transform(df)\n",
    "\n",
    "# Show the scaled data\n",
    "scaled_df.show(truncate=False)\n",
    "\n"
   ]
  },
  {
   "cell_type": "code",
   "execution_count": 24,
   "id": "aa92cedd-ad1c-427a-b737-d74c7de28dc7",
   "metadata": {},
   "outputs": [
    {
     "name": "stdout",
     "output_type": "stream",
     "text": [
      "+-------------+----------+------------------+---------------+---------------+-----------------------+-----------+-------------+---------------+--------------------+--------------------+\n",
      "|TransactionID|CustomerID|CustAccountBalance|TransactionDate|TransactionTime|TransactionAmount (INR)|CustomerAge|GenderEncoded|LocationEncoded|            features|     scaled_features|\n",
      "+-------------+----------+------------------+---------------+---------------+-----------------------+-----------+-------------+---------------+--------------------+--------------------+\n",
      "|           T1|  C5841053|          17819.05|     2016-08-02|         143207|                   25.0|         22|            1|             61|[17819.05,143207....|[1.54900450374121...|\n",
      "|           T2|  C2142763|           2270.69|     2016-08-02|         141858|                27999.0|         59|            0|            106|[2270.69,141858.0...|[1.97390379206530...|\n",
      "|           T3|  C4417068|          17874.44|     2016-08-02|         142712|                  459.0|         19|            1|              0|[17874.44,142712....|[1.55381953930496...|\n",
      "|           T4|  C5342380|         866503.21|     2016-08-02|         142714|                 2060.0|         42|            1|              0|[866503.21,142714...|[0.00753248559713...|\n",
      "|           T5|  C9031234|           6714.43|     2016-08-02|         181156|                 1762.5|         28|            1|             12|[6714.43,181156.0...|[5.83683322626913...|\n",
      "|           T6|  C1536588|           53609.2|     2016-08-02|         173940|                  676.0|         43|            1|            333|[53609.2,173940.0...|[4.66023117068324...|\n",
      "|           T7|  C7126560|            973.46|     2016-08-02|         173806|                  566.0|         24|            1|              0|[973.46,173806.0,...|[8.46225766363481...|\n",
      "|           T8|  C1220223|          95075.54|     2016-08-02|         170537|                  148.0|         34|            0|              0|[95075.54,170537....|[8.26488727825712...|\n",
      "|           T9|  C8536061|          14906.96|     2016-08-02|         192825|                  833.0|         28|            1|              3|[14906.96,192825....|[1.29585742096745...|\n",
      "|          T10|  C6638934|           4279.22|     2016-08-02|         192446|                 289.11|         32|            0|              0|[4279.22,192446.0...|[3.71991270718667...|\n",
      "|          T11|  C5430833|          48429.49|     2016-08-02|         204133|                  259.0|         34|            0|             18|[48429.49,204133....|[4.20996058285317...|\n",
      "|          T12|  C6939838|          14613.46|     2016-08-02|         205108|                  202.0|         28|            0|             35|[14613.46,205108....|[1.27034355676885...|\n",
      "|          T13|  C6339347|          32274.78|     2016-08-02|         203834|                12300.0|         38|            0|             13|[32274.78,203834....|[2.80563664040769...|\n",
      "|          T14|  C8327851|          59950.44|     2016-08-01|          84706|                   50.0|         24|            1|              9|[59950.44,84706.0...|[5.21147320206561...|\n",
      "|          T15|  C7917151|          10100.84|     2016-08-01|          82253|                  338.0|         38|            0|              7|[10100.84,82253.0...|[8.78062896258182...|\n",
      "|          T16|  C8334633|           1283.12|     2016-08-01|         125725|                  250.0|         48|            1|              2|[1283.12,125725.0...|[1.11541224635456...|\n",
      "|          T18|  C8967349|           2177.85|     2016-08-01|         124734|                   54.0|         27|            0|              0|[2177.85,124734.0...|[1.89319826728854...|\n",
      "|          T19|  C3732016|          32816.17|     2016-08-01|         122135|                  315.0|         25|            0|              0|[32816.17,122135....|[2.85269950561546...|\n",
      "|          T20|  C8999019|           10643.5|     2016-08-01|         152821|                  945.0|         31|            0|              7|[10643.5,152821.0...|[9.25236162173043...|\n",
      "|          T21|  C6121429|           2934.22|     2016-08-01|         152824|                   36.0|         23|            0|            440|[2934.22,152824.0...|[2.55070836827301...|\n",
      "+-------------+----------+------------------+---------------+---------------+-----------------------+-----------+-------------+---------------+--------------------+--------------------+\n",
      "only showing top 20 rows\n",
      "\n"
     ]
    }
   ],
   "source": [
    "scaled_df.show()"
   ]
  },
  {
   "cell_type": "code",
   "execution_count": 25,
   "id": "88f3b950-81b0-45d3-ba57-a5d7def07cef",
   "metadata": {},
   "outputs": [],
   "source": [
    "final_data = scaled_df.drop(\"CustAccountBalance\",\"TransactionDate\",\"TransactionTime\",\"TransactionAmount (INR)\",\"CustomerAge\",\"LocationEncoded\",\"LocationEncoded\",\"features\")"
   ]
  },
  {
   "cell_type": "code",
   "execution_count": 26,
   "id": "bbb47e79-3031-477f-b425-42f619191c74",
   "metadata": {},
   "outputs": [],
   "source": [
    "final_data = final_data.drop(\"TransactionID\",\"CustomerID\")"
   ]
  },
  {
   "cell_type": "code",
   "execution_count": 27,
   "id": "88d2cde1-c677-43ce-bfa9-cf1743845bbc",
   "metadata": {},
   "outputs": [
    {
     "name": "stderr",
     "output_type": "stream",
     "text": [
      "23/08/25 02:03:37 WARN InstanceBuilder: Failed to load implementation from:dev.ludovic.netlib.blas.JNIBLAS\n",
      "                                                                                \r"
     ]
    },
    {
     "data": {
      "image/png": "[encoded data removed]",
      "text/plain": [
       "<Figure size 640x480 with 1 Axes>"
      ]
     },
     "metadata": {},
     "output_type": "display_data"
    },
    {
     "name": "stderr",
     "output_type": "stream",
     "text": [
      "                                                                                \r"
     ]
    },
    {
     "data": {
      "image/png": "[encoded data removed]",
      "text/plain": [
       "<Figure size 640x480 with 1 Axes>"
      ]
     },
     "metadata": {},
     "output_type": "display_data"
    }
   ],
   "source": [
    "# Select the features to be used for clustering and assemble them into a vector column\n",
    "feature_cols = [\"GenderEncoded\", \"scaled_features\"]  # Replace with your feature column names\n",
    "assembler = VectorAssembler(inputCols=feature_cols, outputCol=\"features\")\n",
    "data = assembler.transform(final_data)\n",
    "data.drop(\"features\")\n",
    "# Calculate WCSS for different numbers of clusters\n",
    "wcss = []\n",
    "for i in range(2, 16):\n",
    "    kmeans = KMeans().setK(i).setSeed(42)\n",
    "    model = kmeans.fit(data)\n",
    "    wcss.append(model.summary.trainingCost)  # Equivalent to Sklearns ._inertia\n",
    "\n",
    "# Plot the Elbow Method graph\n",
    "plt.plot(range(2, 16), wcss, marker='*', color='r')\n",
    "plt.title('The Elbow Method')\n",
    "plt.xlabel('Number of clusters')\n",
    "plt.ylabel('WCSS')\n",
    "plt.show()\n",
    "\n",
    "\n",
    "# Calculate Silhouette scores for different numbers of clusters\n",
    "range_n_clusters = [2, 3, 4, 5, 6, 7, 8, 9, 10]\n",
    "silhouette_scores = []\n",
    "for num_clusters in range_n_clusters:\n",
    "    kmeans = KMeans().setK(num_clusters).setSeed(42)\n",
    "    model = kmeans.fit(data)\n",
    "    predictions = model.transform(data)\n",
    "    \n",
    "    evaluator = ClusteringEvaluator()\n",
    "    silhouette_score = evaluator.evaluate(predictions)\n",
    "    silhouette_scores.append(silhouette_score)\n",
    "\n",
    "# Plot the Silhouette Analysis graph\n",
    "plt.plot(range_n_clusters, silhouette_scores, 'bx-')\n",
    "plt.xlabel('Values of K')\n",
    "plt.ylabel('Silhouette Score')\n",
    "plt.title('Silhouette Analysis For Optimal K')\n",
    "plt.show()"
   ]
  },
  {
   "cell_type": "code",
   "execution_count": 36,
   "id": "0ff40756-fff5-4e12-a2a0-3bf97be7d861",
   "metadata": {
    "scrolled": true
   },
   "outputs": [
    {
     "name": "stderr",
     "output_type": "stream",
     "text": [
      "23/08/25 02:40:20 WARN DAGScheduler: Broadcasting large task binary with size 3.2 MiB\n"
     ]
    },
    {
     "name": "stdout",
     "output_type": "stream",
     "text": [
      "+-------------+--------------------+--------------------+--------------------+\n",
      "|GenderEncoded|     scaled_features|            features|             Cluster|\n",
      "+-------------+--------------------+--------------------+--------------------+\n",
      "|            1|[1.54900450374121...|[1.0,1.5490045037...|[0, 1, 0, 0, 0, 0...|\n",
      "|            0|[1.97390379206530...|[0.0,1.9739037920...|[0, 1, 0, 0, 0, 0...|\n",
      "|            1|[1.55381953930496...|[1.0,1.5538195393...|[0, 1, 0, 0, 0, 0...|\n",
      "|            1|[0.00753248559713...|[1.0,0.0075324855...|[0, 1, 0, 0, 0, 0...|\n",
      "|            1|[5.83683322626913...|[1.0,5.8368332262...|[0, 1, 0, 0, 0, 0...|\n",
      "|            1|[4.66023117068324...|[1.0,4.6602311706...|[0, 1, 0, 0, 0, 0...|\n",
      "|            1|[8.46225766363481...|[1.0,8.4622576636...|[0, 1, 0, 0, 0, 0...|\n",
      "|            0|[8.26488727825712...|[0.0,8.2648872782...|[0, 1, 0, 0, 0, 0...|\n",
      "|            1|[1.29585742096745...|[1.0,1.2958574209...|[0, 1, 0, 0, 0, 0...|\n",
      "|            0|[3.71991270718667...|[0.0,3.7199127071...|[0, 1, 0, 0, 0, 0...|\n",
      "|            0|[4.20996058285317...|[0.0,4.2099605828...|[0, 1, 0, 0, 0, 0...|\n",
      "|            0|[1.27034355676885...|[0.0,1.2703435567...|[0, 1, 0, 0, 0, 0...|\n",
      "|            0|[2.80563664040769...|[0.0,2.8056366404...|[0, 1, 0, 0, 0, 0...|\n",
      "|            1|[5.21147320206561...|[1.0,5.2114732020...|[0, 1, 0, 0, 0, 0...|\n",
      "|            0|[8.78062896258182...|[0.0,8.7806289625...|[0, 1, 0, 0, 0, 0...|\n",
      "|            1|[1.11541224635456...|[1.0,1.1154122463...|[0, 1, 0, 0, 0, 0...|\n",
      "|            0|[1.89319826728854...|[0.0,1.8931982672...|[0, 1, 0, 0, 0, 0...|\n",
      "|            0|[2.85269950561546...|[0.0,2.8526995056...|[0, 1, 0, 0, 0, 0...|\n",
      "|            0|[9.25236162173043...|[0.0,9.2523616217...|[0, 1, 0, 0, 0, 0...|\n",
      "|            0|[2.55070836827301...|[0.0,2.5507083682...|[0, 1, 0, 0, 0, 0...|\n",
      "+-------------+--------------------+--------------------+--------------------+\n",
      "only showing top 20 rows\n",
      "\n"
     ]
    }
   ],
   "source": [
    "data_with_cluster = data.withColumn(\"Cluster\", array([lit(val) for val in cluster_assignments]))\n",
    "\n",
    "# Show the DataFrame with the new column\n",
    "data_with_cluster.show()"
   ]
  },
  {
   "cell_type": "code",
   "execution_count": 34,
   "id": "f8b189f5-c9bd-439d-b71d-1fbb4d8ba188",
   "metadata": {},
   "outputs": [
    {
     "ename": "AnalysisException",
     "evalue": "[UNRESOLVED_USING_COLUMN_FOR_JOIN] USING column `row_num` cannot be resolved on the right side of the join. The right-side columns: [`Cluster`].",
     "output_type": "error",
     "traceback": [
      "\u001b[0;31m---------------------------------------------------------------------------\u001b[0m",
      "\u001b[0;31mAnalysisException\u001b[0m                         Traceback (most recent call last)",
      "Cell \u001b[0;32mIn[34], line 5\u001b[0m\n\u001b[1;32m      3\u001b[0m \u001b[38;5;66;03m# Join cluster_df with data based on the row number\u001b[39;00m\n\u001b[1;32m      4\u001b[0m data_with_cluster \u001b[38;5;241m=\u001b[39m data\u001b[38;5;241m.\u001b[39mwithColumn(\u001b[38;5;124m\"\u001b[39m\u001b[38;5;124mrow_num\u001b[39m\u001b[38;5;124m\"\u001b[39m, F\u001b[38;5;241m.\u001b[39mmonotonically_increasing_id())\n\u001b[0;32m----> 5\u001b[0m clustered_data \u001b[38;5;241m=\u001b[39m \u001b[43mdata_with_cluster\u001b[49m\u001b[38;5;241;43m.\u001b[39;49m\u001b[43mjoin\u001b[49m\u001b[43m(\u001b[49m\u001b[43mcluster_df\u001b[49m\u001b[43m,\u001b[49m\u001b[43m \u001b[49m\u001b[43mon\u001b[49m\u001b[38;5;241;43m=\u001b[39;49m\u001b[38;5;124;43m\"\u001b[39;49m\u001b[38;5;124;43mrow_num\u001b[39;49m\u001b[38;5;124;43m\"\u001b[39;49m\u001b[43m)\u001b[49m\u001b[38;5;241m.\u001b[39mdrop(\u001b[38;5;124m\"\u001b[39m\u001b[38;5;124mrow_num\u001b[39m\u001b[38;5;124m\"\u001b[39m)\n\u001b[1;32m      7\u001b[0m \u001b[38;5;66;03m# Show the DataFrame with the new column\u001b[39;00m\n\u001b[1;32m      8\u001b[0m clustered_data\u001b[38;5;241m.\u001b[39mshow()\n",
      "File \u001b[0;32m~/.local/lib/python3.8/site-packages/pyspark/sql/dataframe.py:2344\u001b[0m, in \u001b[0;36mDataFrame.join\u001b[0;34m(self, other, on, how)\u001b[0m\n\u001b[1;32m   2342\u001b[0m         on \u001b[38;5;241m=\u001b[39m \u001b[38;5;28mself\u001b[39m\u001b[38;5;241m.\u001b[39m_jseq([])\n\u001b[1;32m   2343\u001b[0m     \u001b[38;5;28;01massert\u001b[39;00m \u001b[38;5;28misinstance\u001b[39m(how, \u001b[38;5;28mstr\u001b[39m), \u001b[38;5;124m\"\u001b[39m\u001b[38;5;124mhow should be a string\u001b[39m\u001b[38;5;124m\"\u001b[39m\n\u001b[0;32m-> 2344\u001b[0m     jdf \u001b[38;5;241m=\u001b[39m \u001b[38;5;28;43mself\u001b[39;49m\u001b[38;5;241;43m.\u001b[39;49m\u001b[43m_jdf\u001b[49m\u001b[38;5;241;43m.\u001b[39;49m\u001b[43mjoin\u001b[49m\u001b[43m(\u001b[49m\u001b[43mother\u001b[49m\u001b[38;5;241;43m.\u001b[39;49m\u001b[43m_jdf\u001b[49m\u001b[43m,\u001b[49m\u001b[43m \u001b[49m\u001b[43mon\u001b[49m\u001b[43m,\u001b[49m\u001b[43m \u001b[49m\u001b[43mhow\u001b[49m\u001b[43m)\u001b[49m\n\u001b[1;32m   2345\u001b[0m \u001b[38;5;28;01mreturn\u001b[39;00m DataFrame(jdf, \u001b[38;5;28mself\u001b[39m\u001b[38;5;241m.\u001b[39msparkSession)\n",
      "File \u001b[0;32m~/.local/lib/python3.8/site-packages/py4j/java_gateway.py:1322\u001b[0m, in \u001b[0;36mJavaMember.__call__\u001b[0;34m(self, *args)\u001b[0m\n\u001b[1;32m   1316\u001b[0m command \u001b[38;5;241m=\u001b[39m proto\u001b[38;5;241m.\u001b[39mCALL_COMMAND_NAME \u001b[38;5;241m+\u001b[39m\\\n\u001b[1;32m   1317\u001b[0m     \u001b[38;5;28mself\u001b[39m\u001b[38;5;241m.\u001b[39mcommand_header \u001b[38;5;241m+\u001b[39m\\\n\u001b[1;32m   1318\u001b[0m     args_command \u001b[38;5;241m+\u001b[39m\\\n\u001b[1;32m   1319\u001b[0m     proto\u001b[38;5;241m.\u001b[39mEND_COMMAND_PART\n\u001b[1;32m   1321\u001b[0m answer \u001b[38;5;241m=\u001b[39m \u001b[38;5;28mself\u001b[39m\u001b[38;5;241m.\u001b[39mgateway_client\u001b[38;5;241m.\u001b[39msend_command(command)\n\u001b[0;32m-> 1322\u001b[0m return_value \u001b[38;5;241m=\u001b[39m \u001b[43mget_return_value\u001b[49m\u001b[43m(\u001b[49m\n\u001b[1;32m   1323\u001b[0m \u001b[43m    \u001b[49m\u001b[43manswer\u001b[49m\u001b[43m,\u001b[49m\u001b[43m \u001b[49m\u001b[38;5;28;43mself\u001b[39;49m\u001b[38;5;241;43m.\u001b[39;49m\u001b[43mgateway_client\u001b[49m\u001b[43m,\u001b[49m\u001b[43m \u001b[49m\u001b[38;5;28;43mself\u001b[39;49m\u001b[38;5;241;43m.\u001b[39;49m\u001b[43mtarget_id\u001b[49m\u001b[43m,\u001b[49m\u001b[43m \u001b[49m\u001b[38;5;28;43mself\u001b[39;49m\u001b[38;5;241;43m.\u001b[39;49m\u001b[43mname\u001b[49m\u001b[43m)\u001b[49m\n\u001b[1;32m   1325\u001b[0m \u001b[38;5;28;01mfor\u001b[39;00m temp_arg \u001b[38;5;129;01min\u001b[39;00m temp_args:\n\u001b[1;32m   1326\u001b[0m     \u001b[38;5;28;01mif\u001b[39;00m \u001b[38;5;28mhasattr\u001b[39m(temp_arg, \u001b[38;5;124m\"\u001b[39m\u001b[38;5;124m_detach\u001b[39m\u001b[38;5;124m\"\u001b[39m):\n",
      "File \u001b[0;32m~/.local/lib/python3.8/site-packages/pyspark/errors/exceptions/captured.py:175\u001b[0m, in \u001b[0;36mcapture_sql_exception.<locals>.deco\u001b[0;34m(*a, **kw)\u001b[0m\n\u001b[1;32m    171\u001b[0m converted \u001b[38;5;241m=\u001b[39m convert_exception(e\u001b[38;5;241m.\u001b[39mjava_exception)\n\u001b[1;32m    172\u001b[0m \u001b[38;5;28;01mif\u001b[39;00m \u001b[38;5;129;01mnot\u001b[39;00m \u001b[38;5;28misinstance\u001b[39m(converted, UnknownException):\n\u001b[1;32m    173\u001b[0m     \u001b[38;5;66;03m# Hide where the exception came from that shows a non-Pythonic\u001b[39;00m\n\u001b[1;32m    174\u001b[0m     \u001b[38;5;66;03m# JVM exception message.\u001b[39;00m\n\u001b[0;32m--> 175\u001b[0m     \u001b[38;5;28;01mraise\u001b[39;00m converted \u001b[38;5;28;01mfrom\u001b[39;00m \u001b[38;5;28;01mNone\u001b[39;00m\n\u001b[1;32m    176\u001b[0m \u001b[38;5;28;01melse\u001b[39;00m:\n\u001b[1;32m    177\u001b[0m     \u001b[38;5;28;01mraise\u001b[39;00m\n",
      "\u001b[0;31mAnalysisException\u001b[0m: [UNRESOLVED_USING_COLUMN_FOR_JOIN] USING column `row_num` cannot be resolved on the right side of the join. The right-side columns: [`Cluster`]."
     ]
    }
   ],
   "source": [
    "cluster_df = spark.createDataFrame([(val,) for val in cluster_assignments], [\"Cluster\"])\n",
    "\n",
    "# Join cluster_df with data based on the row number\n",
    "data_with_cluster = data.withColumn(\"row_num\", F.monotonically_increasing_id())\n",
    "clustered_data = data_with_cluster.join(cluster_df, on=\"row_num\").drop(\"row_num\")\n",
    "\n",
    "# Show the DataFrame with the new column\n",
    "clustered_data.show()"
   ]
  },
  {
   "cell_type": "code",
   "execution_count": 31,
   "id": "d9f158b8-4e3a-42c7-be3c-a5e00a558115",
   "metadata": {},
   "outputs": [
    {
     "name": "stderr",
     "output_type": "stream",
     "text": [
      "                                                                                \r"
     ]
    },
    {
     "data": {
      "text/plain": [
       "985322"
      ]
     },
     "execution_count": 31,
     "metadata": {},
     "output_type": "execute_result"
    }
   ],
   "source": [
    "data.count()"
   ]
  },
  {
   "cell_type": "code",
   "execution_count": 29,
   "id": "7998cd38-e498-45cb-a306-06dbee185db2",
   "metadata": {},
   "outputs": [
    {
     "ename": "PySparkTypeError",
     "evalue": "[NOT_COLUMN] Argument `col` should be a Column, got list.",
     "output_type": "error",
     "traceback": [
      "\u001b[0;31m---------------------------------------------------------------------------\u001b[0m",
      "\u001b[0;31mPySparkTypeError\u001b[0m                          Traceback (most recent call last)",
      "Cell \u001b[0;32mIn[29], line 1\u001b[0m\n\u001b[0;32m----> 1\u001b[0m data \u001b[38;5;241m=\u001b[39m \u001b[43mdata\u001b[49m\u001b[38;5;241;43m.\u001b[39;49m\u001b[43mwithColumn\u001b[49m\u001b[43m(\u001b[49m\u001b[38;5;124;43m\"\u001b[39;49m\u001b[38;5;124;43mCluster\u001b[39;49m\u001b[38;5;124;43m\"\u001b[39;49m\u001b[43m,\u001b[49m\u001b[43mcluster_assignments\u001b[49m\u001b[43m)\u001b[49m\n",
      "File \u001b[0;32m~/.local/lib/python3.8/site-packages/pyspark/sql/dataframe.py:4785\u001b[0m, in \u001b[0;36mDataFrame.withColumn\u001b[0;34m(self, colName, col)\u001b[0m\n\u001b[1;32m   4742\u001b[0m \u001b[38;5;250m\u001b[39m\u001b[38;5;124;03m\"\"\"\u001b[39;00m\n\u001b[1;32m   4743\u001b[0m \u001b[38;5;124;03mReturns a new :class:`DataFrame` by adding a column or replacing the\u001b[39;00m\n\u001b[1;32m   4744\u001b[0m \u001b[38;5;124;03mexisting column that has the same name.\u001b[39;00m\n\u001b[0;32m   (...)\u001b[0m\n\u001b[1;32m   4782\u001b[0m \u001b[38;5;124;03m+---+-----+----+\u001b[39;00m\n\u001b[1;32m   4783\u001b[0m \u001b[38;5;124;03m\"\"\"\u001b[39;00m\n\u001b[1;32m   4784\u001b[0m \u001b[38;5;28;01mif\u001b[39;00m \u001b[38;5;129;01mnot\u001b[39;00m \u001b[38;5;28misinstance\u001b[39m(col, Column):\n\u001b[0;32m-> 4785\u001b[0m     \u001b[38;5;28;01mraise\u001b[39;00m PySparkTypeError(\n\u001b[1;32m   4786\u001b[0m         error_class\u001b[38;5;241m=\u001b[39m\u001b[38;5;124m\"\u001b[39m\u001b[38;5;124mNOT_COLUMN\u001b[39m\u001b[38;5;124m\"\u001b[39m,\n\u001b[1;32m   4787\u001b[0m         message_parameters\u001b[38;5;241m=\u001b[39m{\u001b[38;5;124m\"\u001b[39m\u001b[38;5;124marg_name\u001b[39m\u001b[38;5;124m\"\u001b[39m: \u001b[38;5;124m\"\u001b[39m\u001b[38;5;124mcol\u001b[39m\u001b[38;5;124m\"\u001b[39m, \u001b[38;5;124m\"\u001b[39m\u001b[38;5;124marg_type\u001b[39m\u001b[38;5;124m\"\u001b[39m: \u001b[38;5;28mtype\u001b[39m(col)\u001b[38;5;241m.\u001b[39m\u001b[38;5;18m__name__\u001b[39m},\n\u001b[1;32m   4788\u001b[0m     )\n\u001b[1;32m   4789\u001b[0m \u001b[38;5;28;01mreturn\u001b[39;00m DataFrame(\u001b[38;5;28mself\u001b[39m\u001b[38;5;241m.\u001b[39m_jdf\u001b[38;5;241m.\u001b[39mwithColumn(colName, col\u001b[38;5;241m.\u001b[39m_jc), \u001b[38;5;28mself\u001b[39m\u001b[38;5;241m.\u001b[39msparkSession)\n",
      "\u001b[0;31mPySparkTypeError\u001b[0m: [NOT_COLUMN] Argument `col` should be a Column, got list."
     ]
    }
   ],
   "source": [
    "data = data.withColumn(\"Cluster\", F.expr(f\"array({','.join(map(str, cluster_assignments))})\"))"
   ]
  },
  {
   "cell_type": "code",
   "execution_count": 75,
   "id": "ec6b451d-3ad4-42b7-9b98-9726fd33569f",
   "metadata": {},
   "outputs": [
    {
     "name": "stderr",
     "output_type": "stream",
     "text": [
      "                                                                                \r"
     ]
    },
    {
     "name": "stdout",
     "output_type": "stream",
     "text": [
      "+-------------+--------------------+--------------------+----------+\n",
      "|GenderEncoded|     scaled_features|            features|prediction|\n",
      "+-------------+--------------------+--------------------+----------+\n",
      "|            1|[1.54900450374121...|[1.0,1.5490045037...|         1|\n",
      "|            0|[1.97390379206530...|[0.0,1.9739037920...|         0|\n",
      "|            1|[1.55381953930496...|[1.0,1.5538195393...|         1|\n",
      "|            1|[0.00753248559713...|[1.0,0.0075324855...|         1|\n",
      "|            1|[5.83683322626913...|[1.0,5.8368332262...|         1|\n",
      "|            1|[4.66023117068324...|[1.0,4.6602311706...|         1|\n",
      "|            1|[8.46225766363481...|[1.0,8.4622576636...|         1|\n",
      "|            0|[8.26488727825712...|[0.0,8.2648872782...|         0|\n",
      "|            1|[1.29585742096745...|[1.0,1.2958574209...|         1|\n",
      "|            0|[3.71991270718667...|[0.0,3.7199127071...|         0|\n",
      "|            0|[4.20996058285317...|[0.0,4.2099605828...|         0|\n",
      "|            0|[1.27034355676885...|[0.0,1.2703435567...|         0|\n",
      "|            0|[2.80563664040769...|[0.0,2.8056366404...|         0|\n",
      "|            1|[5.21147320206561...|[1.0,5.2114732020...|         1|\n",
      "|            0|[8.78062896258182...|[0.0,8.7806289625...|         0|\n",
      "|            1|[1.11541224635456...|[1.0,1.1154122463...|         1|\n",
      "|            0|[1.89319826728854...|[0.0,1.8931982672...|         0|\n",
      "|            0|[2.85269950561546...|[0.0,2.8526995056...|         0|\n",
      "|            0|[9.25236162173043...|[0.0,9.2523616217...|         0|\n",
      "|            0|[2.55070836827301...|[0.0,2.5507083682...|         0|\n",
      "+-------------+--------------------+--------------------+----------+\n",
      "only showing top 20 rows\n",
      "\n"
     ]
    }
   ],
   "source": [
    "# Train a BisectingKMeans model\n",
    "k = 2  # Number of clusters\n",
    "bkm = BisectingKMeans().setK(k).setSeed(42)\n",
    "model = bkm.fit(data)\n",
    "\n",
    "# Transform the data with cluster assignments\n",
    "clustered_data = model.transform(data)\n",
    "\n",
    "# Display the clustered data\n",
    "clustered_data.show()"
   ]
  },
  {
   "cell_type": "code",
   "execution_count": 78,
   "id": "195cfa86-cc78-438f-8e14-73bf3c37117c",
   "metadata": {},
   "outputs": [
    {
     "name": "stdout",
     "output_type": "stream",
     "text": [
      "+-------------+---------------------------------------------------------------------------------------------------------+-------------------------------------------------------------------------------------------------------------+\n",
      "|GenderEncoded|scaled_features                                                                                          |features                                                                                                     |\n",
      "+-------------+---------------------------------------------------------------------------------------------------------+-------------------------------------------------------------------------------------------------------------+\n",
      "|1            |[1.5490045037412108E-4,0.6069147606151917,1.6025281586793128E-5,0.3535353535353536,0.007472742864143085] |[1.0,1.5490045037412108E-4,0.6069147606151917,1.6025281586793128E-5,0.3535353535353536,0.007472742864143085] |\n",
      "|0            |[1.9739037920653066E-5,0.6011976656961592,0.01794767436594483,0.7272727272727273,0.012985422026215852]   |[0.0,1.9739037920653066E-5,0.6011976656961592,0.01794767436594483,0.7272727272727273,0.012985422026215852]   |\n",
      "|1            |[1.55381953930496E-4,0.6048169385359321,2.9422416993352184E-4,0.32323232323232326,0.0]                   |[1.0,1.55381953930496E-4,0.6048169385359321,2.9422416993352184E-4,0.32323232323232326,0.0]                   |\n",
      "|1            |[0.007532485597134618,0.6048254145847373,0.0013204832027517537,0.5555555555555556,0.0]                   |[1.0,0.007532485597134618,0.6048254145847373,0.0013204832027517537,0.5555555555555556,0.0]                   |\n",
      "|1            |[5.8368332262691326E-5,0.7677435486673533,0.0011297823518689155,0.4141414141414142,0.001470047776552738] |[1.0,5.8368332262691326E-5,0.7677435486673533,0.0011297823518689155,0.4141414141414142,0.001470047776552738] |\n",
      "|1            |[4.6602311706832474E-4,0.7371619645785921,4.3332361410688616E-4,0.5656565656565657,0.04079382579933848]  |[1.0,4.6602311706832474E-4,0.7371619645785921,4.3332361410688616E-4,0.5656565656565657,0.04079382579933848]  |\n",
      "|1            |[8.462257663634813E-6,0.7365940693086511,3.628123751249964E-4,0.37373737373737376,0.0]                   |[1.0,8.462257663634813E-6,0.7365940693086511,3.628123751249964E-4,0.37373737373737376,0.0]                   |\n",
      "|0            |[8.264887278257126E-4,0.7227399675367331,9.486966699381531E-5,0.4747474747474748,0.0]                    |[0.0,8.264887278257126E-4,0.7227399675367331,9.486966699381531E-5,0.4747474747474748,0.0]                    |\n",
      "|1            |[1.2958574209674523E-4,0.8171970554206451,5.33962382471947E-4,0.4141414141414142,3.675119441381845E-4]   |[1.0,1.2958574209674523E-4,0.8171970554206451,5.33962382471947E-4,0.4141414141414142,3.675119441381845E-4]   |\n",
      "|0            |[3.719912707186671E-5,0.8155908441720808,1.8532276638231045E-4,0.4545454545454546,0.0]                   |[0.0,3.719912707186671E-5,0.8155908441720808,1.8532276638231045E-4,0.4545454545454546,0.0]                   |\n",
      "|0            |[4.2099605828531785E-4,0.8651206353646185,1.660219172391768E-4,0.4747474747474748,0.002205071664829107]  |[0.0,4.2099605828531785E-4,0.8651206353646185,1.660219172391768E-4,0.4747474747474748,0.002205071664829107]  |\n",
      "|0            |[1.2703435567688531E-4,0.8692527091570994,1.2948427522128846E-4,0.4141414141414142,0.004287639348278819] |[0.0,1.2703435567688531E-4,0.8692527091570994,1.2948427522128846E-4,0.4141414141414142,0.004287639348278819] |\n",
      "|0            |[2.805636640407696E-4,0.8638534660682576,0.00788443854070222,0.5151515151515152,0.0015925517579321328]   |[0.0,2.805636640407696E-4,0.8638534660682576,0.00788443854070222,0.5151515151515152,0.0015925517579321328]   |\n",
      "|1            |[5.211473202065612E-4,0.3589860950419353,3.2050563173586256E-5,0.37373737373737376,0.0011025358324145535]|[1.0,5.211473202065612E-4,0.3589860950419353,3.2050563173586256E-5,0.37373737373737376,0.0011025358324145535]|\n",
      "|0            |[8.780628962581828E-5,0.3485902211824936,2.1666180705344308E-4,0.5151515151515152,8.575278696557639E-4]  |[0.0,8.780628962581828E-5,0.3485902211824936,2.1666180705344308E-4,0.5151515151515152,8.575278696557639E-4]  |\n",
      "|1            |[1.11541224635456E-5,0.5328256180099086,1.602528158679313E-4,0.6161616161616162,2.450079627587897E-4]    |[1.0,1.11541224635456E-5,0.5328256180099086,1.602528158679313E-4,0.6161616161616162,2.450079627587897E-4]    |\n",
      "|0            |[1.8931982672885455E-5,0.5286257358269869,3.461460822747316E-5,0.4040404040404041,0.0]                   |[0.0,1.8931982672885455E-5,0.5286257358269869,3.461460822747316E-5,0.4040404040404041,0.0]                   |\n",
      "|0            |[2.8526995056154625E-4,0.5176111104047737,2.0191854799359341E-4,0.38383838383838387,0.0]                 |[0.0,2.8526995056154625E-4,0.5176111104047737,2.0191854799359341E-4,0.38383838383838387,0.0]                 |\n",
      "|0            |[9.252361621730439E-5,0.6476591272212546,6.057556439807802E-4,0.4444444444444445,8.575278696557639E-4]   |[0.0,9.252361621730439E-5,0.6476591272212546,6.057556439807802E-4,0.4444444444444445,8.575278696557639E-4]   |\n",
      "|0            |[2.5507083682730197E-5,0.6476718412944622,2.3076405484982106E-5,0.36363636363636365,0.053901751806933726]|[0.0,2.5507083682730197E-5,0.6476718412944622,2.3076405484982106E-5,0.36363636363636365,0.053901751806933726]|\n",
      "+-------------+---------------------------------------------------------------------------------------------------------+-------------------------------------------------------------------------------------------------------------+\n",
      "only showing top 20 rows\n",
      "\n"
     ]
    }
   ],
   "source": [
    "data"
   ]
  },
  {
   "cell_type": "code",
   "execution_count": null,
   "id": "756d6814-7148-404e-ba8c-c2e8a12c2b3c",
   "metadata": {},
   "outputs": [],
   "source": []
  }
 ],
 "metadata": {
  "kernelspec": {
   "display_name": "Python 3 (ipykernel)",
   "language": "python",
   "name": "python3"
  },
  "language_info": {
   "codemirror_mode": {
    "name": "ipython",
    "version": 3
   },
   "file_extension": ".py",
   "mimetype": "text/x-python",
   "name": "python",
   "nbconvert_exporter": "python",
   "pygments_lexer": "ipython3",
   "version": "3.8.10"
  }
 },
 "nbformat": 4,
 "nbformat_minor": 5
}
