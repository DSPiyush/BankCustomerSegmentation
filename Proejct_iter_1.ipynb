{
 "cells": [
  {
   "cell_type": "markdown",
   "id": "f33c4599-3508-4307-833d-f7d3e815d234",
   "metadata": {},
   "source": [
    "### Import Necessary Libraries"
   ]
  },
  {
   "cell_type": "code",
   "execution_count": null,
   "id": "90776d14",
   "metadata": {},
   "outputs": [],
   "source": []
  },
  {
   "cell_type": "code",
   "execution_count": 136,
   "id": "260feb96-9da6-4fa8-9843-23d7f406febe",
   "metadata": {},
   "outputs": [],
   "source": [
    "from pyspark.sql import SparkSession\n",
    "import pyspark.pandas as pd\n",
    "from pyspark.sql.types import StructType, StructField, StringType, IntegerType, DateType, TimestampType, DoubleType\n",
    "from pyspark.sql.functions import to_date,from_unixtime, unix_timestamp, col, datediff, lit, array,monotonically_increasing_id\n",
    "from pyspark.ml.feature import StringIndexer\n",
    "from pyspark.ml.feature import MinMaxScaler,VectorAssembler\n",
    "from pyspark.ml.linalg import Vectors\n",
    "from pyspark.ml.clustering import KMeans, BisectingKMeans\n",
    "import matplotlib.pyplot as plt\n",
    "from pyspark.ml.evaluation import ClusteringEvaluator\n",
    "from scipy.cluster.hierarchy import dendrogram, linkage\n",
    "import warnings\n",
    "warnings.filterwarnings('ignore')\n",
    "from pyspark.sql import functions as F"
   ]
  },
  {
   "cell_type": "markdown",
   "id": "ea9b76b8-9e28-4937-b072-241c534bea4a",
   "metadata": {},
   "source": [
    "### Creating a Spark Object"
   ]
  },
  {
   "cell_type": "code",
   "execution_count": 137,
   "id": "38635469-2e83-4e79-bf39-1b89c137ae57",
   "metadata": {},
   "outputs": [],
   "source": [
    "spark = SparkSession.builder.getOrCreate()"
   ]
  },
  {
   "cell_type": "markdown",
   "id": "7a4bf8f9-7f4b-4bc2-8ef4-e7e319fdc4d0",
   "metadata": {},
   "source": [
    "### Loading the Data Set \n",
    "\n",
    "1. As we have the header already in the dataset.\n",
    "2. We have **header** as **true** in the below code, as well as initially we are letting spark object decide the schema as well, hence **infershema** is **True** as well"
   ]
  },
  {
   "cell_type": "code",
   "execution_count": 138,
   "id": "d61dc399-e6eb-4100-9c10-2824ed4cdbc6",
   "metadata": {
    "scrolled": true
   },
   "outputs": [],
   "source": [
    "csv_file_path = r\"C:\\Users\\saswa\\OneDrive\\Desktop\\pruject\\BankCustomerSegmentation/bank_transactions.csv\"\n",
    "sdf = spark.read.option(\"header\",\"true\").csv(csv_file_path, inferSchema = True)"
   ]
  },
  {
   "cell_type": "markdown",
   "id": "3caf1231-723b-48f7-887a-f9b7bf2eb737",
   "metadata": {},
   "source": [
    "### Creating a a backup data set of the original one right at the start"
   ]
  },
  {
   "cell_type": "code",
   "execution_count": 139,
   "id": "c8144d01-a5a0-40a5-94fc-9b565fdeea5e",
   "metadata": {},
   "outputs": [],
   "source": [
    "backup_df = sdf# creating a Backup"
   ]
  },
  {
   "cell_type": "markdown",
   "id": "9ddf8880-5269-495c-aeeb-33f411e198ec",
   "metadata": {},
   "source": [
    "#### Changing the type of CustomerDOB as the infershcema was not able to identify the column as a DateType()"
   ]
  },
  {
   "cell_type": "code",
   "execution_count": 140,
   "id": "69d06f9e-6fb3-41c7-b24b-70507e767158",
   "metadata": {
    "scrolled": true
   },
   "outputs": [
    {
     "name": "stdout",
     "output_type": "stream",
     "text": [
      "+-------------+----------+-----------+----------+------------+------------------+---------------+---------------+-----------------------+\n",
      "|TransactionID|CustomerID|CustomerDOB|CustGender|CustLocation|CustAccountBalance|TransactionDate|TransactionTime|TransactionAmount (INR)|\n",
      "+-------------+----------+-----------+----------+------------+------------------+---------------+---------------+-----------------------+\n",
      "|           T1|  C5841053| 1994-01-10|         F|  JAMSHEDPUR|          17819.05|     2016-08-02|         143207|                   25.0|\n",
      "|           T2|  C2142763| 1957-04-04|         M|     JHAJJAR|           2270.69|     2016-08-02|         141858|                27999.0|\n",
      "|           T3|  C4417068| 1996-11-26|         F|      MUMBAI|          17874.44|     2016-08-02|         142712|                  459.0|\n",
      "|           T4|  C5342380| 1973-09-14|         F|      MUMBAI|         866503.21|     2016-08-02|         142714|                 2060.0|\n",
      "|           T5|  C9031234| 1988-03-24|         F| NAVI MUMBAI|           6714.43|     2016-08-02|         181156|                 1762.5|\n",
      "+-------------+----------+-----------+----------+------------+------------------+---------------+---------------+-----------------------+\n",
      "only showing top 5 rows\n",
      "\n"
     ]
    }
   ],
   "source": [
    "sdf = sdf.withColumn(\"CustomerDOB\",sdf[\"CustomerDOB\"].cast(DateType()))   # Converting the CustomerDOB to DateType()\n",
    "sdf.show(5)"
   ]
  },
  {
   "cell_type": "markdown",
   "id": "b039b4a0-773c-4846-a4e9-81a7b12fffbc",
   "metadata": {},
   "source": [
    "#### We are creating a list of numberical columns with List Comprehension in the below step, the aim is to use the describe method on all the numerical columns"
   ]
  },
  {
   "cell_type": "code",
   "execution_count": 141,
   "id": "630a3839-6729-45a4-8b24-d6abc763caac",
   "metadata": {},
   "outputs": [
    {
     "name": "stdout",
     "output_type": "stream",
     "text": [
      "+-------+------------------+------------------+-----------------------+\n",
      "|summary|CustAccountBalance|   TransactionTime|TransactionAmount (INR)|\n",
      "+-------+------------------+------------------+-----------------------+\n",
      "|  count|           1046198|           1048567|                1048567|\n",
      "|   mean|115403.54005622228|157087.52939297154|       1574.33500345711|\n",
      "| stddev| 846485.3806006615| 51261.85402232943|      6574.742978453988|\n",
      "|    min|               0.0|                 0|                    0.0|\n",
      "|    max|     1.150354951E8|            235959|             1560034.99|\n",
      "+-------+------------------+------------------+-----------------------+\n",
      "\n"
     ]
    }
   ],
   "source": [
    "numeric_columns = sdf.select([col for col, dtype in sdf.dtypes if dtype == \"double\" or dtype == \"int\"])\n",
    "numeric_columns.describe().show()"
   ]
  },
  {
   "cell_type": "markdown",
   "id": "8b786b97-a1ca-4072-9828-ecccca3679c7",
   "metadata": {},
   "source": [
    "### We can afford to remove the NaN values, as the column with highest number of null value only consists of 5.5 percent of null values"
   ]
  },
  {
   "cell_type": "code",
   "execution_count": 142,
   "id": "1ecb65cd-ee36-4148-af03-6e8344e227d9",
   "metadata": {
    "scrolled": true
   },
   "outputs": [
    {
     "name": "stdout",
     "output_type": "stream",
     "text": [
      "+-------------+----------+-----------+----------+------------+------------------+---------------+---------------+-----------------------+\n",
      "|TransactionID|CustomerID|CustomerDOB|CustGender|CustLocation|CustAccountBalance|TransactionDate|TransactionTime|TransactionAmount (INR)|\n",
      "+-------------+----------+-----------+----------+------------+------------------+---------------+---------------+-----------------------+\n",
      "|            0|         0|      60736|      1100|         151|              2369|              0|              0|                      0|\n",
      "+-------------+----------+-----------+----------+------------+------------------+---------------+---------------+-----------------------+\n",
      "\n"
     ]
    }
   ],
   "source": [
    "null_counts = sdf.agg(*[F.sum(F.col(column).isNull().cast(\"int\")).alias(column) for column in sdf.columns])\n",
    "null_counts.show()"
   ]
  },
  {
   "cell_type": "code",
   "execution_count": 143,
   "id": "86ea3a79-d25a-4760-ac2c-388cebb44738",
   "metadata": {},
   "outputs": [
    {
     "name": "stdout",
     "output_type": "stream",
     "text": [
      "Shape before dropping the na values : (1048567,9)\n",
      "Shape after dropping the na values : (985322,9)\n",
      "+-------------+----------+-----------+----------+-----------------------+------------------+---------------+---------------+-----------------------+\n",
      "|TransactionID|CustomerID|CustomerDOB|CustGender|CustLocation           |CustAccountBalance|TransactionDate|TransactionTime|TransactionAmount (INR)|\n",
      "+-------------+----------+-----------+----------+-----------------------+------------------+---------------+---------------+-----------------------+\n",
      "|T1           |C5841053  |1994-01-10 |F         |JAMSHEDPUR             |17819.05          |2016-08-02     |143207         |25.0                   |\n",
      "|T2           |C2142763  |1957-04-04 |M         |JHAJJAR                |2270.69           |2016-08-02     |141858         |27999.0                |\n",
      "|T3           |C4417068  |1996-11-26 |F         |MUMBAI                 |17874.44          |2016-08-02     |142712         |459.0                  |\n",
      "|T4           |C5342380  |1973-09-14 |F         |MUMBAI                 |866503.21         |2016-08-02     |142714         |2060.0                 |\n",
      "|T5           |C9031234  |1988-03-24 |F         |NAVI MUMBAI            |6714.43           |2016-08-02     |181156         |1762.5                 |\n",
      "|T6           |C1536588  |1972-10-08 |F         |ITANAGAR               |53609.2           |2016-08-02     |173940         |676.0                  |\n",
      "|T7           |C7126560  |1992-01-26 |F         |MUMBAI                 |973.46            |2016-08-02     |173806         |566.0                  |\n",
      "|T8           |C1220223  |1982-01-27 |M         |MUMBAI                 |95075.54          |2016-08-02     |170537         |148.0                  |\n",
      "|T9           |C8536061  |1988-04-19 |F         |GURGAON                |14906.96          |2016-08-02     |192825         |833.0                  |\n",
      "|T10          |C6638934  |1984-06-22 |M         |MUMBAI                 |4279.22           |2016-08-02     |192446         |289.11                 |\n",
      "|T11          |C5430833  |1982-07-22 |M         |MOHALI                 |48429.49          |2016-08-02     |204133         |259.0                  |\n",
      "|T12          |C6939838  |1988-07-07 |M         |GUNTUR                 |14613.46          |2016-08-02     |205108         |202.0                  |\n",
      "|T13          |C6339347  |1978-06-13 |M         |AHMEDABAD              |32274.78          |2016-08-02     |203834         |12300.0                |\n",
      "|T14          |C8327851  |1992-01-05 |F         |THANE                  |59950.44          |2016-08-01     |84706          |50.0                   |\n",
      "|T15          |C7917151  |1978-03-24 |M         |PUNE                   |10100.84          |2016-08-01     |82253          |338.0                  |\n",
      "|T16          |C8334633  |1968-07-10 |F         |NEW DELHI              |1283.12           |2016-08-01     |125725         |250.0                  |\n",
      "|T18          |C8967349  |1989-07-16 |M         |MUMBAI                 |2177.85           |2016-08-01     |124734         |54.0                   |\n",
      "|T19          |C3732016  |1991-01-11 |M         |MUMBAI                 |32816.17          |2016-08-01     |122135         |315.0                  |\n",
      "|T20          |C8999019  |1985-06-24 |M         |PUNE                   |10643.5           |2016-08-01     |152821         |945.0                  |\n",
      "|T21          |C6121429  |1993-04-20 |M         |NO 3 KALYANI NAGAR PUNE|2934.22           |2016-08-01     |152824         |36.0                   |\n",
      "+-------------+----------+-----------+----------+-----------------------+------------------+---------------+---------------+-----------------------+\n",
      "only showing top 20 rows\n",
      "\n"
     ]
    }
   ],
   "source": [
    "print(f\"Shape before dropping the na values : ({sdf.count()},{len(sdf.columns)})\")\n",
    "sdf = sdf.na.drop()\n",
    "print(f\"Shape after dropping the na values : ({sdf.count()},{len(sdf.columns)})\")\n",
    "sdf.show(truncate=False)"
   ]
  },
  {
   "cell_type": "code",
   "execution_count": 144,
   "id": "43eca550",
   "metadata": {},
   "outputs": [],
   "source": [
    "sdf_cleaned=sdf"
   ]
  },
  {
   "cell_type": "markdown",
   "id": "cfefdac6-0c7e-47b5-8f35-5025313f386f",
   "metadata": {},
   "source": [
    "#### Here as we have the birth date, we will calculate the age of the Customer at the time he made the transaction \n",
    "#####  TransactionDate - CustomerDate = No. of days (Will give us number of days between the 2 Date Columns)\n",
    "#####  No. of Days / 365 - is going to give us float of years \n",
    "#####  Casting it to the IntegerType  as the age is always said to be as a whole Number\n",
    "#####  As now we are creating a correlated column of Age, we should drop the CustomerDOB column for reducing the Multicolliearity "
   ]
  },
  {
   "cell_type": "code",
   "execution_count": 145,
   "id": "a5f15e26-1417-4e09-b261-af778bfa5e22",
   "metadata": {},
   "outputs": [
    {
     "name": "stdout",
     "output_type": "stream",
     "text": [
      "+-------------+----------+-----------+----------+--------------------+------------------+---------------+---------------+-----------------------+-----------+\n",
      "|TransactionID|CustomerID|CustomerDOB|CustGender|        CustLocation|CustAccountBalance|TransactionDate|TransactionTime|TransactionAmount (INR)|CustomerAge|\n",
      "+-------------+----------+-----------+----------+--------------------+------------------+---------------+---------------+-----------------------+-----------+\n",
      "|           T1|  C5841053| 1994-01-10|         F|          JAMSHEDPUR|          17819.05|     2016-08-02|         143207|                   25.0|         22|\n",
      "|           T2|  C2142763| 1957-04-04|         M|             JHAJJAR|           2270.69|     2016-08-02|         141858|                27999.0|         59|\n",
      "|           T3|  C4417068| 1996-11-26|         F|              MUMBAI|          17874.44|     2016-08-02|         142712|                  459.0|         19|\n",
      "|           T4|  C5342380| 1973-09-14|         F|              MUMBAI|         866503.21|     2016-08-02|         142714|                 2060.0|         42|\n",
      "|           T5|  C9031234| 1988-03-24|         F|         NAVI MUMBAI|           6714.43|     2016-08-02|         181156|                 1762.5|         28|\n",
      "|           T6|  C1536588| 1972-10-08|         F|            ITANAGAR|           53609.2|     2016-08-02|         173940|                  676.0|         43|\n",
      "|           T7|  C7126560| 1992-01-26|         F|              MUMBAI|            973.46|     2016-08-02|         173806|                  566.0|         24|\n",
      "|           T8|  C1220223| 1982-01-27|         M|              MUMBAI|          95075.54|     2016-08-02|         170537|                  148.0|         34|\n",
      "|           T9|  C8536061| 1988-04-19|         F|             GURGAON|          14906.96|     2016-08-02|         192825|                  833.0|         28|\n",
      "|          T10|  C6638934| 1984-06-22|         M|              MUMBAI|           4279.22|     2016-08-02|         192446|                 289.11|         32|\n",
      "|          T11|  C5430833| 1982-07-22|         M|              MOHALI|          48429.49|     2016-08-02|         204133|                  259.0|         34|\n",
      "|          T12|  C6939838| 1988-07-07|         M|              GUNTUR|          14613.46|     2016-08-02|         205108|                  202.0|         28|\n",
      "|          T13|  C6339347| 1978-06-13|         M|           AHMEDABAD|          32274.78|     2016-08-02|         203834|                12300.0|         38|\n",
      "|          T14|  C8327851| 1992-01-05|         F|               THANE|          59950.44|     2016-08-01|          84706|                   50.0|         24|\n",
      "|          T15|  C7917151| 1978-03-24|         M|                PUNE|          10100.84|     2016-08-01|          82253|                  338.0|         38|\n",
      "|          T16|  C8334633| 1968-07-10|         F|           NEW DELHI|           1283.12|     2016-08-01|         125725|                  250.0|         48|\n",
      "|          T18|  C8967349| 1989-07-16|         M|              MUMBAI|           2177.85|     2016-08-01|         124734|                   54.0|         27|\n",
      "|          T19|  C3732016| 1991-01-11|         M|              MUMBAI|          32816.17|     2016-08-01|         122135|                  315.0|         25|\n",
      "|          T20|  C8999019| 1985-06-24|         M|                PUNE|           10643.5|     2016-08-01|         152821|                  945.0|         31|\n",
      "|          T21|  C6121429| 1993-04-20|         M|NO 3 KALYANI NAGA...|           2934.22|     2016-08-01|         152824|                   36.0|         23|\n",
      "+-------------+----------+-----------+----------+--------------------+------------------+---------------+---------------+-----------------------+-----------+\n",
      "only showing top 20 rows\n",
      "\n"
     ]
    }
   ],
   "source": [
    "sdf = sdf.withColumn('CustomerAge', datediff('TransactionDate','CustomerDOB')/365)\n",
    "sdf = sdf.withColumn('CustomerAge', col('CustomerAge').cast(IntegerType()))\n",
    "sdf.show()\n",
    "sdf = sdf.drop(\"CustomerDOB\")"
   ]
  },
  {
   "cell_type": "markdown",
   "id": "21004afa-b35c-43b4-8e13-907e461b959d",
   "metadata": {},
   "source": [
    "### Now let us try to acheive the Encoding in a few specific columns.\n",
    "\n",
    "##### StringIndexer comes in handy for PySpark if we need to have Numbers(Float Values) assigned to Strings\n",
    "##### Again now we can go ahead and drop the CustGender Column"
   ]
  },
  {
   "cell_type": "markdown",
   "id": "a4d36c1a-790c-4308-97d5-64e39554a293",
   "metadata": {},
   "source": [
    "#### Encoding the CustGender column"
   ]
  },
  {
   "cell_type": "code",
   "execution_count": 146,
   "id": "34bb787c-6f23-4475-9ef3-237e754fe949",
   "metadata": {},
   "outputs": [
    {
     "name": "stdout",
     "output_type": "stream",
     "text": [
      "+-------------+----------+--------------------+------------------+---------------+---------------+-----------------------+-----------+-------------+\n",
      "|TransactionID|CustomerID|        CustLocation|CustAccountBalance|TransactionDate|TransactionTime|TransactionAmount (INR)|CustomerAge|GenderEncoded|\n",
      "+-------------+----------+--------------------+------------------+---------------+---------------+-----------------------+-----------+-------------+\n",
      "|           T1|  C5841053|          JAMSHEDPUR|          17819.05|     2016-08-02|         143207|                   25.0|         22|            1|\n",
      "|           T2|  C2142763|             JHAJJAR|           2270.69|     2016-08-02|         141858|                27999.0|         59|            0|\n",
      "|           T3|  C4417068|              MUMBAI|          17874.44|     2016-08-02|         142712|                  459.0|         19|            1|\n",
      "|           T4|  C5342380|              MUMBAI|         866503.21|     2016-08-02|         142714|                 2060.0|         42|            1|\n",
      "|           T5|  C9031234|         NAVI MUMBAI|           6714.43|     2016-08-02|         181156|                 1762.5|         28|            1|\n",
      "|           T6|  C1536588|            ITANAGAR|           53609.2|     2016-08-02|         173940|                  676.0|         43|            1|\n",
      "|           T7|  C7126560|              MUMBAI|            973.46|     2016-08-02|         173806|                  566.0|         24|            1|\n",
      "|           T8|  C1220223|              MUMBAI|          95075.54|     2016-08-02|         170537|                  148.0|         34|            0|\n",
      "|           T9|  C8536061|             GURGAON|          14906.96|     2016-08-02|         192825|                  833.0|         28|            1|\n",
      "|          T10|  C6638934|              MUMBAI|           4279.22|     2016-08-02|         192446|                 289.11|         32|            0|\n",
      "|          T11|  C5430833|              MOHALI|          48429.49|     2016-08-02|         204133|                  259.0|         34|            0|\n",
      "|          T12|  C6939838|              GUNTUR|          14613.46|     2016-08-02|         205108|                  202.0|         28|            0|\n",
      "|          T13|  C6339347|           AHMEDABAD|          32274.78|     2016-08-02|         203834|                12300.0|         38|            0|\n",
      "|          T14|  C8327851|               THANE|          59950.44|     2016-08-01|          84706|                   50.0|         24|            1|\n",
      "|          T15|  C7917151|                PUNE|          10100.84|     2016-08-01|          82253|                  338.0|         38|            0|\n",
      "|          T16|  C8334633|           NEW DELHI|           1283.12|     2016-08-01|         125725|                  250.0|         48|            1|\n",
      "|          T18|  C8967349|              MUMBAI|           2177.85|     2016-08-01|         124734|                   54.0|         27|            0|\n",
      "|          T19|  C3732016|              MUMBAI|          32816.17|     2016-08-01|         122135|                  315.0|         25|            0|\n",
      "|          T20|  C8999019|                PUNE|           10643.5|     2016-08-01|         152821|                  945.0|         31|            0|\n",
      "|          T21|  C6121429|NO 3 KALYANI NAGA...|           2934.22|     2016-08-01|         152824|                   36.0|         23|            0|\n",
      "+-------------+----------+--------------------+------------------+---------------+---------------+-----------------------+-----------+-------------+\n",
      "only showing top 20 rows\n",
      "\n",
      "+-------------+----------+-----------------------+------------------+---------------+---------------+-----------------------+-----------+-------------+\n",
      "|TransactionID|CustomerID|CustLocation           |CustAccountBalance|TransactionDate|TransactionTime|TransactionAmount (INR)|CustomerAge|GenderEncoded|\n",
      "+-------------+----------+-----------------------+------------------+---------------+---------------+-----------------------+-----------+-------------+\n",
      "|T1           |C5841053  |JAMSHEDPUR             |17819.05          |2016-08-02     |143207         |25.0                   |22         |1            |\n",
      "|T2           |C2142763  |JHAJJAR                |2270.69           |2016-08-02     |141858         |27999.0                |59         |0            |\n",
      "|T3           |C4417068  |MUMBAI                 |17874.44          |2016-08-02     |142712         |459.0                  |19         |1            |\n",
      "|T4           |C5342380  |MUMBAI                 |866503.21         |2016-08-02     |142714         |2060.0                 |42         |1            |\n",
      "|T5           |C9031234  |NAVI MUMBAI            |6714.43           |2016-08-02     |181156         |1762.5                 |28         |1            |\n",
      "|T6           |C1536588  |ITANAGAR               |53609.2           |2016-08-02     |173940         |676.0                  |43         |1            |\n",
      "|T7           |C7126560  |MUMBAI                 |973.46            |2016-08-02     |173806         |566.0                  |24         |1            |\n",
      "|T8           |C1220223  |MUMBAI                 |95075.54          |2016-08-02     |170537         |148.0                  |34         |0            |\n",
      "|T9           |C8536061  |GURGAON                |14906.96          |2016-08-02     |192825         |833.0                  |28         |1            |\n",
      "|T10          |C6638934  |MUMBAI                 |4279.22           |2016-08-02     |192446         |289.11                 |32         |0            |\n",
      "|T11          |C5430833  |MOHALI                 |48429.49          |2016-08-02     |204133         |259.0                  |34         |0            |\n",
      "|T12          |C6939838  |GUNTUR                 |14613.46          |2016-08-02     |205108         |202.0                  |28         |0            |\n",
      "|T13          |C6339347  |AHMEDABAD              |32274.78          |2016-08-02     |203834         |12300.0                |38         |0            |\n",
      "|T14          |C8327851  |THANE                  |59950.44          |2016-08-01     |84706          |50.0                   |24         |1            |\n",
      "|T15          |C7917151  |PUNE                   |10100.84          |2016-08-01     |82253          |338.0                  |38         |0            |\n",
      "|T16          |C8334633  |NEW DELHI              |1283.12           |2016-08-01     |125725         |250.0                  |48         |1            |\n",
      "|T18          |C8967349  |MUMBAI                 |2177.85           |2016-08-01     |124734         |54.0                   |27         |0            |\n",
      "|T19          |C3732016  |MUMBAI                 |32816.17          |2016-08-01     |122135         |315.0                  |25         |0            |\n",
      "|T20          |C8999019  |PUNE                   |10643.5           |2016-08-01     |152821         |945.0                  |31         |0            |\n",
      "|T21          |C6121429  |NO 3 KALYANI NAGAR PUNE|2934.22           |2016-08-01     |152824         |36.0                   |23         |0            |\n",
      "+-------------+----------+-----------------------+------------------+---------------+---------------+-----------------------+-----------+-------------+\n",
      "only showing top 20 rows\n",
      "\n"
     ]
    }
   ],
   "source": [
    "indexer = StringIndexer(inputCol='CustGender', outputCol='GenderEncoded')\n",
    "sdf = indexer.fit(sdf).transform(sdf)\n",
    "sdf = sdf.withColumn('GenderEncoded', col('GenderEncoded').cast(IntegerType()))\n",
    "sdf = sdf.drop(\"CustGender\")\n",
    "sdf.show()\n",
    "sdf.show(truncate = False)"
   ]
  },
  {
   "cell_type": "code",
   "execution_count": 147,
   "id": "7090504f-201f-48fa-9f23-34cb2695cef3",
   "metadata": {},
   "outputs": [
    {
     "name": "stdout",
     "output_type": "stream",
     "text": [
      "+-------------+------+\n",
      "|GenderEncoded| count|\n",
      "+-------------+------+\n",
      "|            1|272868|\n",
      "|            0|712454|\n",
      "+-------------+------+\n",
      "\n"
     ]
    }
   ],
   "source": [
    "sdf.groupBy(\"GenderEncoded\").count().show() # To check the the distribution of Gender with respect to the number of transactions done!"
   ]
  },
  {
   "cell_type": "markdown",
   "id": "469cf009-9c69-409a-a094-00f880f147f9",
   "metadata": {},
   "source": [
    "#### Endcoding the CustLocation Column"
   ]
  },
  {
   "cell_type": "code",
   "execution_count": 148,
   "id": "0cf64042-1de4-427e-869a-288e45ef0a5a",
   "metadata": {},
   "outputs": [
    {
     "name": "stdout",
     "output_type": "stream",
     "text": [
      "+-------------+----------+------------------+---------------+---------------+-----------------------+-----------+-------------+---------------+\n",
      "|TransactionID|CustomerID|CustAccountBalance|TransactionDate|TransactionTime|TransactionAmount (INR)|CustomerAge|GenderEncoded|LocationEncoded|\n",
      "+-------------+----------+------------------+---------------+---------------+-----------------------+-----------+-------------+---------------+\n",
      "|           T1|  C5841053|          17819.05|     2016-08-02|         143207|                   25.0|         22|            1|             61|\n",
      "|           T2|  C2142763|           2270.69|     2016-08-02|         141858|                27999.0|         59|            0|            106|\n",
      "|           T3|  C4417068|          17874.44|     2016-08-02|         142712|                  459.0|         19|            1|              0|\n",
      "|           T4|  C5342380|         866503.21|     2016-08-02|         142714|                 2060.0|         42|            1|              0|\n",
      "|           T5|  C9031234|           6714.43|     2016-08-02|         181156|                 1762.5|         28|            1|             12|\n",
      "|           T6|  C1536588|           53609.2|     2016-08-02|         173940|                  676.0|         43|            1|            333|\n",
      "|           T7|  C7126560|            973.46|     2016-08-02|         173806|                  566.0|         24|            1|              0|\n",
      "|           T8|  C1220223|          95075.54|     2016-08-02|         170537|                  148.0|         34|            0|              0|\n",
      "|           T9|  C8536061|          14906.96|     2016-08-02|         192825|                  833.0|         28|            1|              3|\n",
      "|          T10|  C6638934|           4279.22|     2016-08-02|         192446|                 289.11|         32|            0|              0|\n",
      "|          T11|  C5430833|          48429.49|     2016-08-02|         204133|                  259.0|         34|            0|             18|\n",
      "|          T12|  C6939838|          14613.46|     2016-08-02|         205108|                  202.0|         28|            0|             35|\n",
      "|          T13|  C6339347|          32274.78|     2016-08-02|         203834|                12300.0|         38|            0|             13|\n",
      "|          T14|  C8327851|          59950.44|     2016-08-01|          84706|                   50.0|         24|            1|              9|\n",
      "|          T15|  C7917151|          10100.84|     2016-08-01|          82253|                  338.0|         38|            0|              7|\n",
      "|          T16|  C8334633|           1283.12|     2016-08-01|         125725|                  250.0|         48|            1|              2|\n",
      "|          T18|  C8967349|           2177.85|     2016-08-01|         124734|                   54.0|         27|            0|              0|\n",
      "|          T19|  C3732016|          32816.17|     2016-08-01|         122135|                  315.0|         25|            0|              0|\n",
      "|          T20|  C8999019|           10643.5|     2016-08-01|         152821|                  945.0|         31|            0|              7|\n",
      "|          T21|  C6121429|           2934.22|     2016-08-01|         152824|                   36.0|         23|            0|            440|\n",
      "+-------------+----------+------------------+---------------+---------------+-----------------------+-----------+-------------+---------------+\n",
      "only showing top 20 rows\n",
      "\n"
     ]
    }
   ],
   "source": [
    "indexer_location = StringIndexer(inputCol='CustLocation', outputCol='LocationEncoded')\n",
    "sdf = indexer_location.fit(sdf).transform(sdf)\n",
    "sdf = sdf.withColumn('LocationEncoded', col('LocationEncoded').cast(IntegerType()))\n",
    "sdf = sdf.drop(\"CustLocation\")\n",
    "sdf.show()"
   ]
  },
  {
   "cell_type": "code",
   "execution_count": 149,
   "id": "bd3e4392-e915-4f41-bcab-3e9ae33415b1",
   "metadata": {},
   "outputs": [
    {
     "name": "stdout",
     "output_type": "stream",
     "text": [
      "+-------------+----------+------------------+---------------+---------------+-----------------------+-----------+-------------+---------------+-----------------------------------------+-------------------------------------------------------------------------------------------------------------+\n",
      "|TransactionID|CustomerID|CustAccountBalance|TransactionDate|TransactionTime|TransactionAmount (INR)|CustomerAge|GenderEncoded|LocationEncoded|features                                 |scaled_features                                                                                              |\n",
      "+-------------+----------+------------------+---------------+---------------+-----------------------+-----------+-------------+---------------+-----------------------------------------+-------------------------------------------------------------------------------------------------------------+\n",
      "|T1           |C5841053  |17819.05          |2016-08-02     |143207         |25.0                   |22         |1            |61             |[17819.05,143207.0,25.0,22.0,61.0,1.0]   |[1.5490045037412108E-4,0.6069147606151917,1.6025281586793128E-5,0.3535353535353536,0.007472742864143085,1.0] |\n",
      "|T2           |C2142763  |2270.69           |2016-08-02     |141858         |27999.0                |59         |0            |106            |[2270.69,141858.0,27999.0,59.0,106.0,0.0]|[1.9739037920653066E-5,0.6011976656961592,0.01794767436594483,0.7272727272727273,0.012985422026215852,0.0]   |\n",
      "|T3           |C4417068  |17874.44          |2016-08-02     |142712         |459.0                  |19         |1            |0              |[17874.44,142712.0,459.0,19.0,0.0,1.0]   |[1.55381953930496E-4,0.6048169385359321,2.9422416993352184E-4,0.32323232323232326,0.0,1.0]                   |\n",
      "|T4           |C5342380  |866503.21         |2016-08-02     |142714         |2060.0                 |42         |1            |0              |[866503.21,142714.0,2060.0,42.0,0.0,1.0] |[0.007532485597134618,0.6048254145847373,0.0013204832027517537,0.5555555555555556,0.0,1.0]                   |\n",
      "|T5           |C9031234  |6714.43           |2016-08-02     |181156         |1762.5                 |28         |1            |12             |[6714.43,181156.0,1762.5,28.0,12.0,1.0]  |[5.8368332262691326E-5,0.7677435486673533,0.0011297823518689155,0.4141414141414142,0.001470047776552738,1.0] |\n",
      "|T6           |C1536588  |53609.2           |2016-08-02     |173940         |676.0                  |43         |1            |333            |[53609.2,173940.0,676.0,43.0,333.0,1.0]  |[4.6602311706832474E-4,0.7371619645785921,4.3332361410688616E-4,0.5656565656565657,0.04079382579933848,1.0]  |\n",
      "|T7           |C7126560  |973.46            |2016-08-02     |173806         |566.0                  |24         |1            |0              |[973.46,173806.0,566.0,24.0,0.0,1.0]     |[8.462257663634813E-6,0.7365940693086511,3.628123751249964E-4,0.37373737373737376,0.0,1.0]                   |\n",
      "|T8           |C1220223  |95075.54          |2016-08-02     |170537         |148.0                  |34         |0            |0              |[95075.54,170537.0,148.0,34.0,0.0,0.0]   |[8.264887278257126E-4,0.7227399675367331,9.486966699381531E-5,0.4747474747474748,0.0,0.0]                    |\n",
      "|T9           |C8536061  |14906.96          |2016-08-02     |192825         |833.0                  |28         |1            |3              |[14906.96,192825.0,833.0,28.0,3.0,1.0]   |[1.2958574209674523E-4,0.8171970554206451,5.33962382471947E-4,0.4141414141414142,3.675119441381845E-4,1.0]   |\n",
      "|T10          |C6638934  |4279.22           |2016-08-02     |192446         |289.11                 |32         |0            |0              |[4279.22,192446.0,289.11,32.0,0.0,0.0]   |[3.719912707186671E-5,0.8155908441720808,1.8532276638231045E-4,0.4545454545454546,0.0,0.0]                   |\n",
      "|T11          |C5430833  |48429.49          |2016-08-02     |204133         |259.0                  |34         |0            |18             |[48429.49,204133.0,259.0,34.0,18.0,0.0]  |[4.2099605828531785E-4,0.8651206353646185,1.660219172391768E-4,0.4747474747474748,0.002205071664829107,0.0]  |\n",
      "|T12          |C6939838  |14613.46          |2016-08-02     |205108         |202.0                  |28         |0            |35             |[14613.46,205108.0,202.0,28.0,35.0,0.0]  |[1.2703435567688531E-4,0.8692527091570994,1.2948427522128846E-4,0.4141414141414142,0.004287639348278819,0.0] |\n",
      "|T13          |C6339347  |32274.78          |2016-08-02     |203834         |12300.0                |38         |0            |13             |[32274.78,203834.0,12300.0,38.0,13.0,0.0]|[2.805636640407696E-4,0.8638534660682576,0.00788443854070222,0.5151515151515152,0.0015925517579321328,0.0]   |\n",
      "|T14          |C8327851  |59950.44          |2016-08-01     |84706          |50.0                   |24         |1            |9              |[59950.44,84706.0,50.0,24.0,9.0,1.0]     |[5.211473202065612E-4,0.3589860950419353,3.2050563173586256E-5,0.37373737373737376,0.0011025358324145535,1.0]|\n",
      "|T15          |C7917151  |10100.84          |2016-08-01     |82253          |338.0                  |38         |0            |7              |[10100.84,82253.0,338.0,38.0,7.0,0.0]    |[8.780628962581828E-5,0.3485902211824936,2.1666180705344308E-4,0.5151515151515152,8.575278696557639E-4,0.0]  |\n",
      "|T16          |C8334633  |1283.12           |2016-08-01     |125725         |250.0                  |48         |1            |2              |[1283.12,125725.0,250.0,48.0,2.0,1.0]    |[1.11541224635456E-5,0.5328256180099086,1.602528158679313E-4,0.6161616161616162,2.450079627587897E-4,1.0]    |\n",
      "|T18          |C8967349  |2177.85           |2016-08-01     |124734         |54.0                   |27         |0            |0              |[2177.85,124734.0,54.0,27.0,0.0,0.0]     |[1.8931982672885455E-5,0.5286257358269869,3.461460822747316E-5,0.4040404040404041,0.0,0.0]                   |\n",
      "|T19          |C3732016  |32816.17          |2016-08-01     |122135         |315.0                  |25         |0            |0              |[32816.17,122135.0,315.0,25.0,0.0,0.0]   |[2.8526995056154625E-4,0.5176111104047737,2.0191854799359341E-4,0.38383838383838387,0.0,0.0]                 |\n",
      "|T20          |C8999019  |10643.5           |2016-08-01     |152821         |945.0                  |31         |0            |7              |[10643.5,152821.0,945.0,31.0,7.0,0.0]    |[9.252361621730439E-5,0.6476591272212546,6.057556439807802E-4,0.4444444444444445,8.575278696557639E-4,0.0]   |\n",
      "|T21          |C6121429  |2934.22           |2016-08-01     |152824         |36.0                   |23         |0            |440            |[2934.22,152824.0,36.0,23.0,440.0,0.0]   |[2.5507083682730197E-5,0.6476718412944622,2.3076405484982106E-5,0.36363636363636365,0.053901751806933726,0.0]|\n",
      "+-------------+----------+------------------+---------------+---------------+-----------------------+-----------+-------------+---------------+-----------------------------------------+-------------------------------------------------------------------------------------------------------------+\n",
      "only showing top 20 rows\n",
      "\n"
     ]
    }
   ],
   "source": [
    "ip_columns = ['CustAccountBalance', 'TransactionTime','TransactionAmount (INR)','CustomerAge','LocationEncoded','GenderEncoded']\n",
    "# Assemble features into a Vector column\n",
    "assembler = VectorAssembler(inputCols=ip_columns, outputCol=\"features\")\n",
    "df = assembler.transform(sdf)\n",
    "\n",
    "\n",
    "scaler = MinMaxScaler(inputCol=\"features\", outputCol=\"scaled_features\") # Initialize the MinMaxScaler\n",
    "\n",
    "# Fit and transform the data using the scaler\n",
    "scaler_model = scaler.fit(df)\n",
    "scaled_df = scaler_model.transform(df)\n",
    "\n",
    "# Show the scaled data\n",
    "scaled_df.show(truncate=False)\n",
    "\n"
   ]
  },
  {
   "cell_type": "code",
   "execution_count": 150,
   "id": "aa92cedd-ad1c-427a-b737-d74c7de28dc7",
   "metadata": {},
   "outputs": [
    {
     "name": "stdout",
     "output_type": "stream",
     "text": [
      "+-------------+----------+------------------+---------------+---------------+-----------------------+-----------+-------------+---------------+--------------------+--------------------+\n",
      "|TransactionID|CustomerID|CustAccountBalance|TransactionDate|TransactionTime|TransactionAmount (INR)|CustomerAge|GenderEncoded|LocationEncoded|            features|     scaled_features|\n",
      "+-------------+----------+------------------+---------------+---------------+-----------------------+-----------+-------------+---------------+--------------------+--------------------+\n",
      "|           T1|  C5841053|          17819.05|     2016-08-02|         143207|                   25.0|         22|            1|             61|[17819.05,143207....|[1.54900450374121...|\n",
      "|           T2|  C2142763|           2270.69|     2016-08-02|         141858|                27999.0|         59|            0|            106|[2270.69,141858.0...|[1.97390379206530...|\n",
      "|           T3|  C4417068|          17874.44|     2016-08-02|         142712|                  459.0|         19|            1|              0|[17874.44,142712....|[1.55381953930496...|\n",
      "|           T4|  C5342380|         866503.21|     2016-08-02|         142714|                 2060.0|         42|            1|              0|[866503.21,142714...|[0.00753248559713...|\n",
      "|           T5|  C9031234|           6714.43|     2016-08-02|         181156|                 1762.5|         28|            1|             12|[6714.43,181156.0...|[5.83683322626913...|\n",
      "|           T6|  C1536588|           53609.2|     2016-08-02|         173940|                  676.0|         43|            1|            333|[53609.2,173940.0...|[4.66023117068324...|\n",
      "|           T7|  C7126560|            973.46|     2016-08-02|         173806|                  566.0|         24|            1|              0|[973.46,173806.0,...|[8.46225766363481...|\n",
      "|           T8|  C1220223|          95075.54|     2016-08-02|         170537|                  148.0|         34|            0|              0|[95075.54,170537....|[8.26488727825712...|\n",
      "|           T9|  C8536061|          14906.96|     2016-08-02|         192825|                  833.0|         28|            1|              3|[14906.96,192825....|[1.29585742096745...|\n",
      "|          T10|  C6638934|           4279.22|     2016-08-02|         192446|                 289.11|         32|            0|              0|[4279.22,192446.0...|[3.71991270718667...|\n",
      "|          T11|  C5430833|          48429.49|     2016-08-02|         204133|                  259.0|         34|            0|             18|[48429.49,204133....|[4.20996058285317...|\n",
      "|          T12|  C6939838|          14613.46|     2016-08-02|         205108|                  202.0|         28|            0|             35|[14613.46,205108....|[1.27034355676885...|\n",
      "|          T13|  C6339347|          32274.78|     2016-08-02|         203834|                12300.0|         38|            0|             13|[32274.78,203834....|[2.80563664040769...|\n",
      "|          T14|  C8327851|          59950.44|     2016-08-01|          84706|                   50.0|         24|            1|              9|[59950.44,84706.0...|[5.21147320206561...|\n",
      "|          T15|  C7917151|          10100.84|     2016-08-01|          82253|                  338.0|         38|            0|              7|[10100.84,82253.0...|[8.78062896258182...|\n",
      "|          T16|  C8334633|           1283.12|     2016-08-01|         125725|                  250.0|         48|            1|              2|[1283.12,125725.0...|[1.11541224635456...|\n",
      "|          T18|  C8967349|           2177.85|     2016-08-01|         124734|                   54.0|         27|            0|              0|[2177.85,124734.0...|[1.89319826728854...|\n",
      "|          T19|  C3732016|          32816.17|     2016-08-01|         122135|                  315.0|         25|            0|              0|[32816.17,122135....|[2.85269950561546...|\n",
      "|          T20|  C8999019|           10643.5|     2016-08-01|         152821|                  945.0|         31|            0|              7|[10643.5,152821.0...|[9.25236162173043...|\n",
      "|          T21|  C6121429|           2934.22|     2016-08-01|         152824|                   36.0|         23|            0|            440|[2934.22,152824.0...|[2.55070836827301...|\n",
      "+-------------+----------+------------------+---------------+---------------+-----------------------+-----------+-------------+---------------+--------------------+--------------------+\n",
      "only showing top 20 rows\n",
      "\n"
     ]
    }
   ],
   "source": [
    "scaled_df.show()"
   ]
  },
  {
   "cell_type": "code",
   "execution_count": 151,
   "id": "88f3b950-81b0-45d3-ba57-a5d7def07cef",
   "metadata": {},
   "outputs": [],
   "source": [
    "final_data = scaled_df.drop(\"CustAccountBalance\",\"TransactionDate\",\"TransactionTime\",\"TransactionAmount (INR)\",\"CustomerAge\",\"LocationEncoded\",\"LocationEncoded\",\"features\",\"TransactionID\",\"CustomerID\",\"GenderEncoded\")"
   ]
  },
  {
   "cell_type": "code",
   "execution_count": 152,
   "id": "bbb47e79-3031-477f-b425-42f619191c74",
   "metadata": {},
   "outputs": [
    {
     "name": "stdout",
     "output_type": "stream",
     "text": [
      "+-------------------------------------------------------------------------------------------------------------+\n",
      "|scaled_features                                                                                              |\n",
      "+-------------------------------------------------------------------------------------------------------------+\n",
      "|[1.5490045037412108E-4,0.6069147606151917,1.6025281586793128E-5,0.3535353535353536,0.007472742864143085,1.0] |\n",
      "|[1.9739037920653066E-5,0.6011976656961592,0.01794767436594483,0.7272727272727273,0.012985422026215852,0.0]   |\n",
      "|[1.55381953930496E-4,0.6048169385359321,2.9422416993352184E-4,0.32323232323232326,0.0,1.0]                   |\n",
      "|[0.007532485597134618,0.6048254145847373,0.0013204832027517537,0.5555555555555556,0.0,1.0]                   |\n",
      "|[5.8368332262691326E-5,0.7677435486673533,0.0011297823518689155,0.4141414141414142,0.001470047776552738,1.0] |\n",
      "|[4.6602311706832474E-4,0.7371619645785921,4.3332361410688616E-4,0.5656565656565657,0.04079382579933848,1.0]  |\n",
      "|[8.462257663634813E-6,0.7365940693086511,3.628123751249964E-4,0.37373737373737376,0.0,1.0]                   |\n",
      "|[8.264887278257126E-4,0.7227399675367331,9.486966699381531E-5,0.4747474747474748,0.0,0.0]                    |\n",
      "|[1.2958574209674523E-4,0.8171970554206451,5.33962382471947E-4,0.4141414141414142,3.675119441381845E-4,1.0]   |\n",
      "|[3.719912707186671E-5,0.8155908441720808,1.8532276638231045E-4,0.4545454545454546,0.0,0.0]                   |\n",
      "|[4.2099605828531785E-4,0.8651206353646185,1.660219172391768E-4,0.4747474747474748,0.002205071664829107,0.0]  |\n",
      "|[1.2703435567688531E-4,0.8692527091570994,1.2948427522128846E-4,0.4141414141414142,0.004287639348278819,0.0] |\n",
      "|[2.805636640407696E-4,0.8638534660682576,0.00788443854070222,0.5151515151515152,0.0015925517579321328,0.0]   |\n",
      "|[5.211473202065612E-4,0.3589860950419353,3.2050563173586256E-5,0.37373737373737376,0.0011025358324145535,1.0]|\n",
      "|[8.780628962581828E-5,0.3485902211824936,2.1666180705344308E-4,0.5151515151515152,8.575278696557639E-4,0.0]  |\n",
      "|[1.11541224635456E-5,0.5328256180099086,1.602528158679313E-4,0.6161616161616162,2.450079627587897E-4,1.0]    |\n",
      "|[1.8931982672885455E-5,0.5286257358269869,3.461460822747316E-5,0.4040404040404041,0.0,0.0]                   |\n",
      "|[2.8526995056154625E-4,0.5176111104047737,2.0191854799359341E-4,0.38383838383838387,0.0,0.0]                 |\n",
      "|[9.252361621730439E-5,0.6476591272212546,6.057556439807802E-4,0.4444444444444445,8.575278696557639E-4,0.0]   |\n",
      "|[2.5507083682730197E-5,0.6476718412944622,2.3076405484982106E-5,0.36363636363636365,0.053901751806933726,0.0]|\n",
      "+-------------------------------------------------------------------------------------------------------------+\n",
      "only showing top 20 rows\n",
      "\n"
     ]
    }
   ],
   "source": [
    "final_data.show(truncate=False)"
   ]
  },
  {
   "cell_type": "code",
   "execution_count": 153,
   "id": "dbf8113a",
   "metadata": {},
   "outputs": [],
   "source": [
    "# Select the features to be used for clustering and assemble them into a vector column\n",
    "feature_cols = [\"scaled_features\"]  # Replace with your feature column names\n",
    "assembler = VectorAssembler(inputCols=feature_cols, outputCol=\"features\")\n",
    "data = assembler.transform(final_data)"
   ]
  },
  {
   "cell_type": "code",
   "execution_count": 154,
   "id": "5494b013",
   "metadata": {},
   "outputs": [],
   "source": [
    "data=data.drop(\"scaled_features\")"
   ]
  },
  {
   "cell_type": "code",
   "execution_count": 155,
   "id": "3ddeaf89",
   "metadata": {},
   "outputs": [
    {
     "name": "stdout",
     "output_type": "stream",
     "text": [
      "+--------------------+\n",
      "|            features|\n",
      "+--------------------+\n",
      "|[1.54900450374121...|\n",
      "|[1.97390379206530...|\n",
      "|[1.55381953930496...|\n",
      "|[0.00753248559713...|\n",
      "|[5.83683322626913...|\n",
      "|[4.66023117068324...|\n",
      "|[8.46225766363481...|\n",
      "|[8.26488727825712...|\n",
      "|[1.29585742096745...|\n",
      "|[3.71991270718667...|\n",
      "|[4.20996058285317...|\n",
      "|[1.27034355676885...|\n",
      "|[2.80563664040769...|\n",
      "|[5.21147320206561...|\n",
      "|[8.78062896258182...|\n",
      "|[1.11541224635456...|\n",
      "|[1.89319826728854...|\n",
      "|[2.85269950561546...|\n",
      "|[9.25236162173043...|\n",
      "|[2.55070836827301...|\n",
      "+--------------------+\n",
      "only showing top 20 rows\n",
      "\n"
     ]
    }
   ],
   "source": [
    "data.show()"
   ]
  },
  {
   "cell_type": "code",
   "execution_count": 156,
   "id": "802293f8",
   "metadata": {},
   "outputs": [
    {
     "data": {
      "image/png": "[encoded data removed]",
      "text/plain": [
       "<Figure size 640x480 with 1 Axes>"
      ]
     },
     "metadata": {},
     "output_type": "display_data"
    }
   ],
   "source": [
    "\n",
    "\n",
    "# Calculate WCSS for different numbers of clusters\n",
    "wcss = []\n",
    "for i in range(2, 10):\n",
    "    kmeans = KMeans().setK(i).setSeed(42)\n",
    "    model = kmeans.fit(data)\n",
    "    wcss.append(model.summary.trainingCost)  # Equivalent to Sklearns ._inertia\n",
    "\n",
    "# Plot the Elbow Method graph\n",
    "plt.plot(range(2, 10), wcss, marker='*', color='r')\n",
    "plt.title('The Elbow Method')\n",
    "plt.xlabel('Number of clusters')\n",
    "plt.ylabel('WCSS')\n",
    "plt.show()\n",
    "\n",
    "\n",
    "# Calculate Silhouette scores for different numbers of clusters\n",
    "range_n_clusters = [2, 3, 4, 5, 6, 7, 8, 9, 10]\n"
   ]
  },
  {
   "cell_type": "code",
   "execution_count": 158,
   "id": "88d2cde1-c677-43ce-bfa9-cf1743845bbc",
   "metadata": {},
   "outputs": [
    {
     "data": {
      "image/png": "[encoded data removed]",
      "text/plain": [
       "<Figure size 640x480 with 1 Axes>"
      ]
     },
     "metadata": {},
     "output_type": "display_data"
    }
   ],
   "source": [
    "silhouette_scores = []\n",
    "for num_clusters in range_n_clusters:\n",
    "    kmeans = KMeans().setK(num_clusters).setSeed(42)\n",
    "    model = kmeans.fit(data)\n",
    "    predictions = model.transform(data)\n",
    "    evaluator = ClusteringEvaluator()\n",
    "    silhouette_score = evaluator.evaluate(predictions)\n",
    "    silhouette_scores.append(silhouette_score)\n",
    "\n",
    "# Plot the Silhouette Analysis graph\n",
    "plt.plot(range_n_clusters, silhouette_scores, 'bx-')\n",
    "plt.xlabel('Values of K')\n",
    "plt.ylabel('Silhouette Score')\n",
    "plt.title('Silhouette Analysis For Optimal K')\n",
    "plt.show()"
   ]
  },
  {
   "cell_type": "code",
   "execution_count": 159,
   "id": "3c547946",
   "metadata": {},
   "outputs": [],
   "source": [
    "kmeans = KMeans().setK(3).setSeed(42)\n",
    "model = kmeans.fit(data)\n",
    "predictions = model.transform(data)"
   ]
  },
  {
   "cell_type": "code",
   "execution_count": 160,
   "id": "319ae190",
   "metadata": {},
   "outputs": [
    {
     "name": "stdout",
     "output_type": "stream",
     "text": [
      "+--------------------+----------+\n",
      "|            features|prediction|\n",
      "+--------------------+----------+\n",
      "|[1.54900450374121...|         1|\n",
      "|[1.97390379206530...|         2|\n",
      "|[1.55381953930496...|         1|\n",
      "|[0.00753248559713...|         1|\n",
      "|[5.83683322626913...|         1|\n",
      "|[4.66023117068324...|         1|\n",
      "|[8.46225766363481...|         1|\n",
      "|[8.26488727825712...|         0|\n",
      "|[1.29585742096745...|         1|\n",
      "|[3.71991270718667...|         0|\n",
      "|[4.20996058285317...|         0|\n",
      "|[1.27034355676885...|         0|\n",
      "|[2.80563664040769...|         0|\n",
      "|[5.21147320206561...|         1|\n",
      "|[8.78062896258182...|         2|\n",
      "|[1.11541224635456...|         1|\n",
      "|[1.89319826728854...|         2|\n",
      "|[2.85269950561546...|         2|\n",
      "|[9.25236162173043...|         0|\n",
      "|[2.55070836827301...|         0|\n",
      "+--------------------+----------+\n",
      "only showing top 20 rows\n",
      "\n"
     ]
    }
   ],
   "source": [
    "predictions.show()"
   ]
  },
  {
   "cell_type": "markdown",
   "id": "2714019d",
   "metadata": {},
   "source": [
    "### EXPORTED TO LOCAL FILE AS CSV"
   ]
  },
  {
   "cell_type": "code",
   "execution_count": 133,
   "id": "0c712b1b",
   "metadata": {},
   "outputs": [],
   "source": [
    "sdf_cleaned.toPandas().to_csv(r\"C:\\Users\\saswa\\OneDrive\\Desktop\\DBDA\\aaa\\f1.csv\")"
   ]
  },
  {
   "cell_type": "code",
   "execution_count": 135,
   "id": "809f63f0",
   "metadata": {},
   "outputs": [],
   "source": [
    "predictions.toPandas().to_csv(r\"C:\\Users\\saswa\\OneDrive\\Desktop\\DBDA\\aaa\\f2.csv\")"
   ]
  },
  {
   "cell_type": "markdown",
   "id": "abeee76d",
   "metadata": {},
   "source": [
    "### BisectingKmeans equivalent to hierarchial clustering in ML"
   ]
  },
  {
   "cell_type": "code",
   "execution_count": 75,
   "id": "ec6b451d-3ad4-42b7-9b98-9726fd33569f",
   "metadata": {},
   "outputs": [
    {
     "name": "stderr",
     "output_type": "stream",
     "text": [
      "                                                                                \r"
     ]
    },
    {
     "name": "stdout",
     "output_type": "stream",
     "text": [
      "+-------------+--------------------+--------------------+----------+\n",
      "|GenderEncoded|     scaled_features|            features|prediction|\n",
      "+-------------+--------------------+--------------------+----------+\n",
      "|            1|[1.54900450374121...|[1.0,1.5490045037...|         1|\n",
      "|            0|[1.97390379206530...|[0.0,1.9739037920...|         0|\n",
      "|            1|[1.55381953930496...|[1.0,1.5538195393...|         1|\n",
      "|            1|[0.00753248559713...|[1.0,0.0075324855...|         1|\n",
      "|            1|[5.83683322626913...|[1.0,5.8368332262...|         1|\n",
      "|            1|[4.66023117068324...|[1.0,4.6602311706...|         1|\n",
      "|            1|[8.46225766363481...|[1.0,8.4622576636...|         1|\n",
      "|            0|[8.26488727825712...|[0.0,8.2648872782...|         0|\n",
      "|            1|[1.29585742096745...|[1.0,1.2958574209...|         1|\n",
      "|            0|[3.71991270718667...|[0.0,3.7199127071...|         0|\n",
      "|            0|[4.20996058285317...|[0.0,4.2099605828...|         0|\n",
      "|            0|[1.27034355676885...|[0.0,1.2703435567...|         0|\n",
      "|            0|[2.80563664040769...|[0.0,2.8056366404...|         0|\n",
      "|            1|[5.21147320206561...|[1.0,5.2114732020...|         1|\n",
      "|            0|[8.78062896258182...|[0.0,8.7806289625...|         0|\n",
      "|            1|[1.11541224635456...|[1.0,1.1154122463...|         1|\n",
      "|            0|[1.89319826728854...|[0.0,1.8931982672...|         0|\n",
      "|            0|[2.85269950561546...|[0.0,2.8526995056...|         0|\n",
      "|            0|[9.25236162173043...|[0.0,9.2523616217...|         0|\n",
      "|            0|[2.55070836827301...|[0.0,2.5507083682...|         0|\n",
      "+-------------+--------------------+--------------------+----------+\n",
      "only showing top 20 rows\n",
      "\n"
     ]
    }
   ],
   "source": [
    "# Train a BisectingKMeans model\n",
    "k = 2  # Number of clusters\n",
    "bkm = BisectingKMeans().setK(k).setSeed(42)\n",
    "model = bkm.fit(data)\n",
    "\n",
    "# Transform the data with cluster assignments\n",
    "clustered_data = model.transform(data)\n",
    "\n",
    "# Display the clustered data\n",
    "clustered_data.show()"
   ]
  },
  {
   "cell_type": "code",
   "execution_count": null,
   "id": "756d6814-7148-404e-ba8c-c2e8a12c2b3c",
   "metadata": {},
   "outputs": [],
   "source": []
  }
 ],
 "metadata": {
  "kernelspec": {
   "display_name": "Python 3 (ipykernel)",
   "language": "python",
   "name": "python3"
  },
  "language_info": {
   "codemirror_mode": {
    "name": "ipython",
    "version": 3
   },
   "file_extension": ".py",
   "mimetype": "text/x-python",
   "name": "python",
   "nbconvert_exporter": "python",
   "pygments_lexer": "ipython3",
   "version": "3.10.9"
  }
 },
 "nbformat": 4,
 "nbformat_minor": 5
}
