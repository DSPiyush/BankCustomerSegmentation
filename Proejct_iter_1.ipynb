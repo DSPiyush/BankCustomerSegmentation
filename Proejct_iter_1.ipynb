{
 "cells": [
  {
   "cell_type": "markdown",
   "id": "f33c4599-3508-4307-833d-f7d3e815d234",
   "metadata": {},
   "source": [
    "### Import Necessary Libraries"
   ]
  },
  {
   "cell_type": "code",
   "execution_count": 55,
   "id": "260feb96-9da6-4fa8-9843-23d7f406febe",
   "metadata": {},
   "outputs": [],
   "source": [
    "from pyspark.sql import SparkSession\n",
    "import pyspark.pandas as ps\n",
    "import pandas as pd\n",
    "from pyspark.sql.types import StructType, StructField, StringType, IntegerType, DateType, TimestampType, DoubleType\n",
    "from pyspark.sql.functions import to_date,from_unixtime, unix_timestamp, col, datediff, lit, array,monotonically_increasing_id,when,udf,collect_list,count,monotonically_increasing_id,isnan\n",
    "from pyspark.sql.window import Window\n",
    "from pyspark.ml.feature import StringIndexer,MinMaxScaler,VectorAssembler, Imputer\n",
    "from pyspark.ml.linalg import Vectors\n",
    "from pyspark.ml.clustering import KMeans, BisectingKMeans\n",
    "import matplotlib.pyplot as plt\n",
    "import seaborn as sns\n",
    "import numpy as np\n",
    "from pyspark.ml.evaluation import ClusteringEvaluator\n",
    "from scipy.cluster.hierarchy import dendrogram, linkage\n",
    "import warnings\n",
    "warnings.filterwarnings('ignore')\n",
    "from pyspark.sql import functions as F"
   ]
  },
  {
   "cell_type": "markdown",
   "id": "ea9b76b8-9e28-4937-b072-241c534bea4a",
   "metadata": {},
   "source": [
    "### Creating a Spark Object"
   ]
  },
  {
   "cell_type": "code",
   "execution_count": 56,
   "id": "38635469-2e83-4e79-bf39-1b89c137ae57",
   "metadata": {},
   "outputs": [],
   "source": [
    "spark = SparkSession.builder.getOrCreate()"
   ]
  },
  {
   "cell_type": "markdown",
   "id": "7a4bf8f9-7f4b-4bc2-8ef4-e7e319fdc4d0",
   "metadata": {},
   "source": [
    "### Loading the Data Set \n",
    "\n",
    "1. As we have the header already in the dataset.\n",
    "2. We have **header** as **true** in the below code, as well as initially we are letting spark object decide the schema as well, hence **infershema** is **True** as well"
   ]
  },
  {
   "cell_type": "code",
   "execution_count": 57,
   "id": "d61dc399-e6eb-4100-9c10-2824ed4cdbc6",
   "metadata": {
    "scrolled": true
   },
   "outputs": [],
   "source": [
    "csv_file_path = r\"C:\\Users\\saswa\\OneDrive\\Desktop\\pruject\\BankCustomerSegmentation\\BankCustomerSegmentation\\bank_transactions.csv\"\n",
    "sdf = spark.read.option(\"header\",\"true\").csv(csv_file_path, inferSchema = True)"
   ]
  },
  {
   "cell_type": "code",
   "execution_count": 58,
   "id": "ab24a8ea",
   "metadata": {
    "scrolled": true
   },
   "outputs": [
    {
     "data": {
      "text/plain": [
       "['TransactionID',\n",
       " 'CustomerID',\n",
       " 'CustomerDOB',\n",
       " 'CustGender',\n",
       " 'CustLocation',\n",
       " 'CustAccountBalance',\n",
       " 'TransactionDate',\n",
       " 'TransactionTime',\n",
       " 'TransactionAmount (INR)']"
      ]
     },
     "execution_count": 58,
     "metadata": {},
     "output_type": "execute_result"
    }
   ],
   "source": [
    "sdf.columns"
   ]
  },
  {
   "cell_type": "markdown",
   "id": "3caf1231-723b-48f7-887a-f9b7bf2eb737",
   "metadata": {},
   "source": [
    "### Creating a a backup data set of the original one right at the start"
   ]
  },
  {
   "cell_type": "code",
   "execution_count": 59,
   "id": "c8144d01-a5a0-40a5-94fc-9b565fdeea5e",
   "metadata": {},
   "outputs": [],
   "source": [
    "backup_df = sdf# creating a Backup"
   ]
  },
  {
   "cell_type": "markdown",
   "id": "f98903f7",
   "metadata": {},
   "source": [
    "##### Distribution of gender "
   ]
  },
  {
   "cell_type": "code",
   "execution_count": 60,
   "id": "c07b5c59",
   "metadata": {
    "scrolled": true
   },
   "outputs": [
    {
     "name": "stdout",
     "output_type": "stream",
     "text": [
      "+----------+------+\n",
      "|CustGender| count|\n",
      "+----------+------+\n",
      "|         F|281936|\n",
      "|      null|  1100|\n",
      "|         M|765530|\n",
      "|         T|     1|\n",
      "+----------+------+\n",
      "\n"
     ]
    }
   ],
   "source": [
    "sdf.groupBy(\"CustGender\").count().show()"
   ]
  },
  {
   "cell_type": "code",
   "execution_count": 61,
   "id": "90ca40a2",
   "metadata": {
    "scrolled": false
   },
   "outputs": [
    {
     "data": {
      "image/png": "[encoded data removed]",
      "text/plain": [
       "<Figure size 640x480 with 1 Axes>"
      ]
     },
     "metadata": {},
     "output_type": "display_data"
    }
   ],
   "source": [
    "gender=ps.DataFrame(sdf.groupBy(\"CustGender\").count())\n",
    "plt.pie(gender[\"count\"].to_numpy(),labels=gender[\"CustGender\"].to_numpy(),explode=[0.2,0,0,0],autopct='%.2f')\n",
    "plt.show()"
   ]
  },
  {
   "cell_type": "markdown",
   "id": "b039b4a0-773c-4846-a4e9-81a7b12fffbc",
   "metadata": {},
   "source": [
    "#### We are creating a list of numberical columns with List Comprehension in the below step, the aim is to use the describe method on all the numerical columns"
   ]
  },
  {
   "cell_type": "code",
   "execution_count": 62,
   "id": "630a3839-6729-45a4-8b24-d6abc763caac",
   "metadata": {},
   "outputs": [
    {
     "name": "stdout",
     "output_type": "stream",
     "text": [
      "+-------+------------------+------------------+-----------------------+\n",
      "|summary|CustAccountBalance|   TransactionTime|TransactionAmount (INR)|\n",
      "+-------+------------------+------------------+-----------------------+\n",
      "|  count|           1046198|           1048567|                1048567|\n",
      "|   mean|115403.54005622225|157087.52939297154|     1574.3350034571092|\n",
      "| stddev| 846485.3806006608| 51261.85402232925|      6574.742978454011|\n",
      "|    min|               0.0|                 0|                    0.0|\n",
      "|    max|     1.150354951E8|            235959|             1560034.99|\n",
      "+-------+------------------+------------------+-----------------------+\n",
      "\n"
     ]
    }
   ],
   "source": [
    "numeric_columns = sdf.select([col for col, dtype in sdf.dtypes if dtype == \"double\" or dtype == \"int\"])\n",
    "numeric_columns.describe().show()"
   ]
  },
  {
   "cell_type": "markdown",
   "id": "8b786b97-a1ca-4072-9828-ecccca3679c7",
   "metadata": {},
   "source": [
    "### We can afford to remove the NaN values, as the column with highest number of null value only consists of 5.5 percent of null values"
   ]
  },
  {
   "cell_type": "code",
   "execution_count": 63,
   "id": "1ecb65cd-ee36-4148-af03-6e8344e227d9",
   "metadata": {
    "scrolled": true
   },
   "outputs": [
    {
     "name": "stdout",
     "output_type": "stream",
     "text": [
      "+-------------+----------+-----------+----------+------------+------------------+---------------+---------------+-----------------------+\n",
      "|TransactionID|CustomerID|CustomerDOB|CustGender|CustLocation|CustAccountBalance|TransactionDate|TransactionTime|TransactionAmount (INR)|\n",
      "+-------------+----------+-----------+----------+------------+------------------+---------------+---------------+-----------------------+\n",
      "|            0|         0|          0|      1100|         151|              2369|              0|              0|                      0|\n",
      "+-------------+----------+-----------+----------+------------+------------------+---------------+---------------+-----------------------+\n",
      "\n"
     ]
    }
   ],
   "source": [
    "null_counts = sdf.agg(*[F.sum(F.col(column).isNull().cast(\"int\")).alias(column) for column in sdf.columns])\n",
    "null_counts.show()"
   ]
  },
  {
   "cell_type": "markdown",
   "id": "227a5180",
   "metadata": {},
   "source": [
    "##### Dropping transaction ID and Customer ID  aand transaction Time as it hardly carries any importance in finding the clusters"
   ]
  },
  {
   "cell_type": "code",
   "execution_count": 64,
   "id": "d2b80130",
   "metadata": {},
   "outputs": [
    {
     "name": "stdout",
     "output_type": "stream",
     "text": [
      "6\n"
     ]
    }
   ],
   "source": [
    "sdf_cleaned = sdf.drop('TransactionID', 'CustomerID', 'TransactionTime')\n",
    "print(f\"{len(sdf_cleaned.columns)}\")"
   ]
  },
  {
   "cell_type": "markdown",
   "id": "2d0fc85e",
   "metadata": {},
   "source": [
    "##### Converting the Transaction Date and Customer Date of Birth to Timestamp"
   ]
  },
  {
   "cell_type": "code",
   "execution_count": 65,
   "id": "e16ea220",
   "metadata": {
    "scrolled": true
   },
   "outputs": [
    {
     "name": "stdout",
     "output_type": "stream",
     "text": [
      "root\n",
      " |-- CustomerDOB: string (nullable = true)\n",
      " |-- CustGender: string (nullable = true)\n",
      " |-- CustLocation: string (nullable = true)\n",
      " |-- CustAccountBalance: double (nullable = true)\n",
      " |-- TransactionDate: date (nullable = true)\n",
      " |-- TransactionAmount (INR): double (nullable = true)\n",
      "\n"
     ]
    }
   ],
   "source": [
    "sdf_cleaned.printSchema()"
   ]
  },
  {
   "cell_type": "code",
   "execution_count": 66,
   "id": "61f2b066",
   "metadata": {},
   "outputs": [
    {
     "name": "stdout",
     "output_type": "stream",
     "text": [
      "+-----------+----------+------------+------------------+---------------+-----------------------+\n",
      "|CustomerDOB|CustGender|CustLocation|CustAccountBalance|TransactionDate|TransactionAmount (INR)|\n",
      "+-----------+----------+------------+------------------+---------------+-----------------------+\n",
      "| 1994-01-10|         F|  JAMSHEDPUR|          17819.05|     2016-08-02|                   25.0|\n",
      "| 1957-04-04|         M|     JHAJJAR|           2270.69|     2016-08-02|                27999.0|\n",
      "| 1996-11-26|         F|      MUMBAI|          17874.44|     2016-08-02|                  459.0|\n",
      "| 1973-09-14|         F|      MUMBAI|         866503.21|     2016-08-02|                 2060.0|\n",
      "| 1988-03-24|         F| NAVI MUMBAI|           6714.43|     2016-08-02|                 1762.5|\n",
      "+-----------+----------+------------+------------------+---------------+-----------------------+\n",
      "only showing top 5 rows\n",
      "\n"
     ]
    }
   ],
   "source": [
    "sdf_cleaned = sdf_cleaned.withColumn(\"CustomerDOB\",sdf_cleaned[\"CustomerDOB\"].cast(DateType()))   # Converting the CustomerDOB to DateType()\n",
    "sdf_cleaned.show(5)"
   ]
  },
  {
   "cell_type": "code",
   "execution_count": 67,
   "id": "ffa501dc",
   "metadata": {},
   "outputs": [
    {
     "name": "stdout",
     "output_type": "stream",
     "text": [
      "+-----------+----------+------------+------------------+---------------+-----------------------+\n",
      "|CustomerDOB|CustGender|CustLocation|CustAccountBalance|TransactionDate|TransactionAmount (INR)|\n",
      "+-----------+----------+------------+------------------+---------------+-----------------------+\n",
      "| 1994-01-10|         F|  JAMSHEDPUR|          17819.05|     2016-08-02|                   25.0|\n",
      "| 1957-04-04|         M|     JHAJJAR|           2270.69|     2016-08-02|                27999.0|\n",
      "| 1996-11-26|         F|      MUMBAI|          17874.44|     2016-08-02|                  459.0|\n",
      "| 1973-09-14|         F|      MUMBAI|         866503.21|     2016-08-02|                 2060.0|\n",
      "| 1988-03-24|         F| NAVI MUMBAI|           6714.43|     2016-08-02|                 1762.5|\n",
      "+-----------+----------+------------+------------------+---------------+-----------------------+\n",
      "only showing top 5 rows\n",
      "\n"
     ]
    }
   ],
   "source": [
    "sdf_cleaned = sdf_cleaned.withColumn(\"TransactionDate\",sdf_cleaned[\"TransactionDate\"].cast(DateType()))   # Converting the CustomerDOB to DateType()\n",
    "sdf_cleaned.show(5)"
   ]
  },
  {
   "cell_type": "code",
   "execution_count": 68,
   "id": "af1f17f2",
   "metadata": {
    "scrolled": true
   },
   "outputs": [
    {
     "name": "stdout",
     "output_type": "stream",
     "text": [
      "root\n",
      " |-- CustomerDOB: date (nullable = true)\n",
      " |-- CustGender: string (nullable = true)\n",
      " |-- CustLocation: string (nullable = true)\n",
      " |-- CustAccountBalance: double (nullable = true)\n",
      " |-- TransactionDate: date (nullable = true)\n",
      " |-- TransactionAmount (INR): double (nullable = true)\n",
      "\n"
     ]
    }
   ],
   "source": [
    "sdf_cleaned.printSchema()"
   ]
  },
  {
   "cell_type": "code",
   "execution_count": 69,
   "id": "d26f1b76",
   "metadata": {},
   "outputs": [
    {
     "name": "stdout",
     "output_type": "stream",
     "text": [
      "+-----------+----------+------------+------------------+---------------+-----------------------+\n",
      "|CustomerDOB|CustGender|CustLocation|CustAccountBalance|TransactionDate|TransactionAmount (INR)|\n",
      "+-----------+----------+------------+------------------+---------------+-----------------------+\n",
      "|      60736|      1100|         151|              2369|              0|                      0|\n",
      "+-----------+----------+------------+------------------+---------------+-----------------------+\n",
      "\n"
     ]
    }
   ],
   "source": [
    "null_counts = sdf_cleaned.agg(*[F.sum(F.col(column).isNull().cast(\"int\")).alias(column) for column in sdf_cleaned.columns])\n",
    "null_counts.show()"
   ]
  },
  {
   "cell_type": "code",
   "execution_count": 70,
   "id": "9432d02f",
   "metadata": {
    "scrolled": false
   },
   "outputs": [
    {
     "name": "stdout",
     "output_type": "stream",
     "text": [
      "+-----------+----------+------------+------------------+---------------+-----------------------+\n",
      "|CustomerDOB|CustGender|CustLocation|CustAccountBalance|TransactionDate|TransactionAmount (INR)|\n",
      "+-----------+----------+------------+------------------+---------------+-----------------------+\n",
      "| 1994-01-10|         F|  JAMSHEDPUR|          17819.05|     2016-08-02|                   25.0|\n",
      "| 1957-04-04|         M|     JHAJJAR|           2270.69|     2016-08-02|                27999.0|\n",
      "| 1996-11-26|         F|      MUMBAI|          17874.44|     2016-08-02|                  459.0|\n",
      "| 1973-09-14|         F|      MUMBAI|         866503.21|     2016-08-02|                 2060.0|\n",
      "| 1988-03-24|         F| NAVI MUMBAI|           6714.43|     2016-08-02|                 1762.5|\n",
      "| 1972-10-08|         F|    ITANAGAR|           53609.2|     2016-08-02|                  676.0|\n",
      "| 1992-01-26|         F|      MUMBAI|            973.46|     2016-08-02|                  566.0|\n",
      "| 1982-01-27|         M|      MUMBAI|          95075.54|     2016-08-02|                  148.0|\n",
      "| 1988-04-19|         F|     GURGAON|          14906.96|     2016-08-02|                  833.0|\n",
      "| 1984-06-22|         M|      MUMBAI|           4279.22|     2016-08-02|                 289.11|\n",
      "| 1982-07-22|         M|      MOHALI|          48429.49|     2016-08-02|                  259.0|\n",
      "| 1988-07-07|         M|      GUNTUR|          14613.46|     2016-08-02|                  202.0|\n",
      "| 1978-06-13|         M|   AHMEDABAD|          32274.78|     2016-08-02|                12300.0|\n",
      "| 1992-01-05|         F|       THANE|          59950.44|     2016-08-01|                   50.0|\n",
      "| 1978-03-24|         M|        PUNE|          10100.84|     2016-08-01|                  338.0|\n",
      "| 1968-07-10|         F|   NEW DELHI|           1283.12|     2016-08-01|                  250.0|\n",
      "|       null|         M|      MUMBAI|          77495.15|     2016-08-01|                1423.11|\n",
      "| 1989-07-16|         M|      MUMBAI|           2177.85|     2016-08-01|                   54.0|\n",
      "| 1991-01-11|         M|      MUMBAI|          32816.17|     2016-08-01|                  315.0|\n",
      "| 1985-06-24|         M|        PUNE|           10643.5|     2016-08-01|                  945.0|\n",
      "+-----------+----------+------------+------------------+---------------+-----------------------+\n",
      "only showing top 20 rows\n",
      "\n"
     ]
    }
   ],
   "source": [
    "sdf_cleaned.show()"
   ]
  },
  {
   "cell_type": "markdown",
   "id": "e38ce3ef",
   "metadata": {},
   "source": [
    "##### Remvoed the duplicated rows  from the data set"
   ]
  },
  {
   "cell_type": "code",
   "execution_count": 71,
   "id": "df7980ee",
   "metadata": {},
   "outputs": [
    {
     "data": {
      "text/plain": [
       "987831"
      ]
     },
     "execution_count": 71,
     "metadata": {},
     "output_type": "execute_result"
    }
   ],
   "source": [
    "sdf_cleaned = sdf_cleaned.na.drop(subset=['CustomerDOB'])\n",
    "sdf_cleaned.count()"
   ]
  },
  {
   "cell_type": "code",
   "execution_count": 72,
   "id": "0dfce7ea",
   "metadata": {},
   "outputs": [],
   "source": [
    "duplicated_count = sdf_cleaned.groupBy(sdf_cleaned.columns).count().filter(\"count > 1\").count()"
   ]
  },
  {
   "cell_type": "code",
   "execution_count": 73,
   "id": "f2dff0f2",
   "metadata": {},
   "outputs": [
    {
     "data": {
      "text/plain": [
       "30558"
      ]
     },
     "execution_count": 73,
     "metadata": {},
     "output_type": "execute_result"
    }
   ],
   "source": [
    "duplicated_count"
   ]
  },
  {
   "cell_type": "code",
   "execution_count": 74,
   "id": "1e092239",
   "metadata": {},
   "outputs": [
    {
     "data": {
      "text/plain": [
       "947525"
      ]
     },
     "execution_count": 74,
     "metadata": {},
     "output_type": "execute_result"
    }
   ],
   "source": [
    "sdf_deduplicated = sdf_cleaned.dropDuplicates()\n",
    "sdf_deduplicated.count()"
   ]
  },
  {
   "cell_type": "markdown",
   "id": "5d9b2b04",
   "metadata": {},
   "source": [
    "##### There were erroneous age at source, hence dropped"
   ]
  },
  {
   "cell_type": "code",
   "execution_count": 75,
   "id": "0a84d775",
   "metadata": {
    "scrolled": false
   },
   "outputs": [
    {
     "name": "stdout",
     "output_type": "stream",
     "text": [
      "+-----------+----------+--------------+------------------+---------------+-----------------------+\n",
      "|CustomerDOB|CustGender|  CustLocation|CustAccountBalance|TransactionDate|TransactionAmount (INR)|\n",
      "+-----------+----------+--------------+------------------+---------------+-----------------------+\n",
      "| 1967-05-04|         M|         DUBAI|           6190.71|     2016-08-01|                  878.0|\n",
      "| 1996-04-19|         M|AMBEDKAR NAGAR|             84.91|     2016-08-07|                   88.0|\n",
      "| 1974-03-16|         F|     NEW DELHI|          15147.88|     2016-10-21|                 1000.0|\n",
      "| 1984-10-16|         F|   NAVI MUMBAI|          10577.72|     2016-10-21|                 1045.0|\n",
      "| 1988-04-07|         M|     BENGALURU|           3040.43|     2016-10-21|                  295.0|\n",
      "+-----------+----------+--------------+------------------+---------------+-----------------------+\n",
      "only showing top 5 rows\n",
      "\n"
     ]
    }
   ],
   "source": [
    "sdf_cleaned = sdf_deduplicated[sdf_deduplicated['CustomerDOB'] < '2000-01-01']\n",
    "sdf_cleaned.show(5)"
   ]
  },
  {
   "cell_type": "code",
   "execution_count": 76,
   "id": "1aba0937",
   "metadata": {},
   "outputs": [
    {
     "name": "stdout",
     "output_type": "stream",
     "text": [
      "+-----------+----------+------------+------------------+---------------+-----------------------+\n",
      "|CustomerDOB|CustGender|CustLocation|CustAccountBalance|TransactionDate|TransactionAmount (INR)|\n",
      "+-----------+----------+------------+------------------+---------------+-----------------------+\n",
      "|          0|       140|         147|              2027|              0|                      0|\n",
      "+-----------+----------+------------+------------------+---------------+-----------------------+\n",
      "\n"
     ]
    }
   ],
   "source": [
    "null_counts = sdf_cleaned.agg(*[F.sum(F.col(column).isNull().cast(\"int\")).alias(column) for column in sdf_cleaned.columns])\n",
    "null_counts.show()"
   ]
  },
  {
   "cell_type": "markdown",
   "id": "e20ec3d1",
   "metadata": {},
   "source": [
    "#### The CustomerAccount Balance is highly skewed, so we will be filling it with the median as median is way less sensative to outliers than mean"
   ]
  },
  {
   "cell_type": "code",
   "execution_count": 77,
   "id": "61849d33",
   "metadata": {},
   "outputs": [],
   "source": [
    "imputer = Imputer(strategy = 'median', inputCol = 'CustAccountBalance' , outputCol= 'CustAccountBalance')\n",
    "sdf_cleaned = imputer.fit(sdf_cleaned).transform(sdf_cleaned)"
   ]
  },
  {
   "cell_type": "code",
   "execution_count": 78,
   "id": "342c75aa",
   "metadata": {},
   "outputs": [
    {
     "name": "stdout",
     "output_type": "stream",
     "text": [
      "+-----------+----------+------------+------------------+---------------+-----------------------+\n",
      "|CustomerDOB|CustGender|CustLocation|CustAccountBalance|TransactionDate|TransactionAmount (INR)|\n",
      "+-----------+----------+------------+------------------+---------------+-----------------------+\n",
      "|          0|       140|         147|                 0|              0|                      0|\n",
      "+-----------+----------+------------+------------------+---------------+-----------------------+\n",
      "\n"
     ]
    }
   ],
   "source": [
    "null_counts = sdf_cleaned.agg(*[F.sum(F.col(column).isNull().cast(\"int\")).alias(column) for column in sdf_cleaned.columns])\n",
    "null_counts.show()"
   ]
  },
  {
   "cell_type": "code",
   "execution_count": 79,
   "id": "03908208",
   "metadata": {
    "scrolled": false
   },
   "outputs": [],
   "source": [
    "mode_result = sdf_cleaned.groupBy(\"CustGender\").count().orderBy(col(\"count\").desc()).first()\n",
    "mode_CustGender = mode_result[\"CustGender\"]\n",
    "sdf_cleaned = sdf_cleaned.fillna({\"CustGender\": mode_CustGender}) # Fill null values with the mode"
   ]
  },
  {
   "cell_type": "code",
   "execution_count": 80,
   "id": "50042996",
   "metadata": {
    "scrolled": true
   },
   "outputs": [
    {
     "data": {
      "text/plain": [
       "Row(CustGender='M', count=683015)"
      ]
     },
     "execution_count": 80,
     "metadata": {},
     "output_type": "execute_result"
    }
   ],
   "source": [
    "mode_result"
   ]
  },
  {
   "cell_type": "code",
   "execution_count": 81,
   "id": "c4059b2b",
   "metadata": {},
   "outputs": [
    {
     "data": {
      "text/plain": [
       "'M'"
      ]
     },
     "execution_count": 81,
     "metadata": {},
     "output_type": "execute_result"
    }
   ],
   "source": [
    "mode_CustGender"
   ]
  },
  {
   "cell_type": "code",
   "execution_count": 82,
   "id": "cc74e76b",
   "metadata": {},
   "outputs": [],
   "source": [
    "mode_result_2 = sdf_cleaned.groupBy(\"CustLocation\").count().orderBy(col(\"count\").desc()).first()\n",
    "mode_CustLocation = mode_result_2[\"CustLocation\"]\n",
    "sdf_cleaned = sdf_cleaned.fillna({\"CustLocation\": mode_CustLocation}) # Fill null values with the mode"
   ]
  },
  {
   "cell_type": "code",
   "execution_count": 83,
   "id": "e49c9264",
   "metadata": {},
   "outputs": [
    {
     "data": {
      "text/plain": [
       "Row(CustLocation='MUMBAI', count=94555)"
      ]
     },
     "execution_count": 83,
     "metadata": {},
     "output_type": "execute_result"
    }
   ],
   "source": [
    "mode_result_2"
   ]
  },
  {
   "cell_type": "code",
   "execution_count": 84,
   "id": "0824b24f",
   "metadata": {
    "scrolled": true
   },
   "outputs": [
    {
     "data": {
      "text/plain": [
       "'MUMBAI'"
      ]
     },
     "execution_count": 84,
     "metadata": {},
     "output_type": "execute_result"
    }
   ],
   "source": [
    "mode_CustLocation"
   ]
  },
  {
   "cell_type": "code",
   "execution_count": 85,
   "id": "44aeab3e",
   "metadata": {},
   "outputs": [
    {
     "name": "stdout",
     "output_type": "stream",
     "text": [
      "+-----------+----------+------------+------------------+---------------+-----------------------+\n",
      "|CustomerDOB|CustGender|CustLocation|CustAccountBalance|TransactionDate|TransactionAmount (INR)|\n",
      "+-----------+----------+------------+------------------+---------------+-----------------------+\n",
      "|          0|         0|           0|                 0|              0|                      0|\n",
      "+-----------+----------+------------+------------------+---------------+-----------------------+\n",
      "\n"
     ]
    }
   ],
   "source": [
    "null_counts = sdf_cleaned.agg(*[F.sum(F.col(column).isNull().cast(\"int\")).alias(column) for column in sdf_cleaned.columns])\n",
    "null_counts.show()"
   ]
  },
  {
   "cell_type": "code",
   "execution_count": 86,
   "id": "86ea3a79-d25a-4760-ac2c-388cebb44738",
   "metadata": {
    "scrolled": true
   },
   "outputs": [
    {
     "name": "stdout",
     "output_type": "stream",
     "text": [
      "Shape after the data Cleaning and Filling : (946481,9)\n",
      "+-----------+----------+--------------+------------------+---------------+-----------------------+\n",
      "|CustomerDOB|CustGender|CustLocation  |CustAccountBalance|TransactionDate|TransactionAmount (INR)|\n",
      "+-----------+----------+--------------+------------------+---------------+-----------------------+\n",
      "|1967-05-04 |M         |DUBAI         |6190.71           |2016-08-01     |878.0                  |\n",
      "|1996-04-19 |M         |AMBEDKAR NAGAR|84.91             |2016-08-07     |88.0                   |\n",
      "|1974-03-16 |F         |NEW DELHI     |15147.88          |2016-10-21     |1000.0                 |\n",
      "|1984-10-16 |F         |NAVI MUMBAI   |10577.72          |2016-10-21     |1045.0                 |\n",
      "|1988-04-07 |M         |BENGALURU     |3040.43           |2016-10-21     |295.0                  |\n",
      "+-----------+----------+--------------+------------------+---------------+-----------------------+\n",
      "only showing top 5 rows\n",
      "\n"
     ]
    }
   ],
   "source": [
    "print(f\"Shape after the data Cleaning and Filling : ({sdf_cleaned.count()},{len(sdf.columns)})\")\n",
    "sdf_cleaned.show(5,truncate=False)"
   ]
  },
  {
   "cell_type": "code",
   "execution_count": 34,
   "id": "613c472f",
   "metadata": {},
   "outputs": [],
   "source": [
    "sdf_cleaned.toPandas().to_csv(r\"C:\\Users\\piyus\\Desktop\\BankCustomerSegmentation\\BankCustomerSegmentation\\CSVCleaned\\sdf_cleaned.csv\")"
   ]
  },
  {
   "cell_type": "markdown",
   "id": "cfefdac6-0c7e-47b5-8f35-5025313f386f",
   "metadata": {},
   "source": [
    "#### Here as we have the birth date, we will calculate the age of the Customer at the time he made the transaction \n",
    "#####  TransactionDate - CustomerDate = No. of days (Will give us number of days between the 2 Date Columns)\n",
    "#####  No. of Days / 365 - is going to give us float of years \n",
    "#####  Casting it to the IntegerType  as the age is always said to be as a whole Number\n",
    "#####  As now we are creating a correlated column of Age, we should drop the CustomerDOB column for reducing the Multicolliearity "
   ]
  },
  {
   "cell_type": "code",
   "execution_count": 87,
   "id": "29c0f45d",
   "metadata": {},
   "outputs": [
    {
     "name": "stdout",
     "output_type": "stream",
     "text": [
      "+-----------+----------+--------------+------------------+---------------+-----------------------+\n",
      "|CustomerDOB|CustGender|  CustLocation|CustAccountBalance|TransactionDate|TransactionAmount (INR)|\n",
      "+-----------+----------+--------------+------------------+---------------+-----------------------+\n",
      "| 1967-05-04|         M|         DUBAI|           6190.71|     2016-08-01|                  878.0|\n",
      "| 1996-04-19|         M|AMBEDKAR NAGAR|             84.91|     2016-08-07|                   88.0|\n",
      "| 1974-03-16|         F|     NEW DELHI|          15147.88|     2016-10-21|                 1000.0|\n",
      "| 1984-10-16|         F|   NAVI MUMBAI|          10577.72|     2016-10-21|                 1045.0|\n",
      "| 1988-04-07|         M|     BENGALURU|           3040.43|     2016-10-21|                  295.0|\n",
      "+-----------+----------+--------------+------------------+---------------+-----------------------+\n",
      "only showing top 5 rows\n",
      "\n"
     ]
    }
   ],
   "source": [
    "sdf_cleaned.show(5)"
   ]
  },
  {
   "cell_type": "code",
   "execution_count": 88,
   "id": "a5f15e26-1417-4e09-b261-af778bfa5e22",
   "metadata": {},
   "outputs": [
    {
     "name": "stdout",
     "output_type": "stream",
     "text": [
      "+-----------+----------+--------------+------------------+---------------+-----------------------+-----------+\n",
      "|CustomerDOB|CustGender|  CustLocation|CustAccountBalance|TransactionDate|TransactionAmount (INR)|CustomerAge|\n",
      "+-----------+----------+--------------+------------------+---------------+-----------------------+-----------+\n",
      "| 1967-05-04|         M|         DUBAI|           6190.71|     2016-08-01|                  878.0|         49|\n",
      "| 1996-04-19|         M|AMBEDKAR NAGAR|             84.91|     2016-08-07|                   88.0|         20|\n",
      "| 1974-03-16|         F|     NEW DELHI|          15147.88|     2016-10-21|                 1000.0|         42|\n",
      "| 1984-10-16|         F|   NAVI MUMBAI|          10577.72|     2016-10-21|                 1045.0|         32|\n",
      "| 1988-04-07|         M|     BENGALURU|           3040.43|     2016-10-21|                  295.0|         28|\n",
      "+-----------+----------+--------------+------------------+---------------+-----------------------+-----------+\n",
      "only showing top 5 rows\n",
      "\n"
     ]
    }
   ],
   "source": [
    "sdf_cleaned = sdf_cleaned.withColumn('CustomerAge', datediff('TransactionDate','CustomerDOB')/365)\n",
    "sdf_cleaned = sdf_cleaned.withColumn('CustomerAge', col('CustomerAge').cast(IntegerType()))\n",
    "sdf_cleaned.show(5)\n",
    "sdf_cleaned = sdf_cleaned.drop(\"CustomerDOB\")"
   ]
  },
  {
   "cell_type": "code",
   "execution_count": 89,
   "id": "613ac7bf",
   "metadata": {},
   "outputs": [],
   "source": [
    "sdf_cleaned_backup = sdf_cleaned"
   ]
  },
  {
   "cell_type": "code",
   "execution_count": 90,
   "id": "b18fd373",
   "metadata": {},
   "outputs": [
    {
     "data": {
      "text/html": [
       "<div>\n",
       "<style scoped>\n",
       "    .dataframe tbody tr th:only-of-type {\n",
       "        vertical-align: middle;\n",
       "    }\n",
       "\n",
       "    .dataframe tbody tr th {\n",
       "        vertical-align: top;\n",
       "    }\n",
       "\n",
       "    .dataframe thead th {\n",
       "        text-align: right;\n",
       "    }\n",
       "</style>\n",
       "<table border=\"1\" class=\"dataframe\">\n",
       "  <thead>\n",
       "    <tr style=\"text-align: right;\">\n",
       "      <th></th>\n",
       "      <th>CustGender</th>\n",
       "      <th>CustLocation</th>\n",
       "      <th>CustAccountBalance</th>\n",
       "      <th>TransactionDate</th>\n",
       "      <th>TransactionAmount (INR)</th>\n",
       "      <th>CustomerAge</th>\n",
       "    </tr>\n",
       "  </thead>\n",
       "  <tbody>\n",
       "    <tr>\n",
       "      <th>0</th>\n",
       "      <td>M</td>\n",
       "      <td>DUBAI</td>\n",
       "      <td>6190.71</td>\n",
       "      <td>2016-08-01</td>\n",
       "      <td>878.0</td>\n",
       "      <td>49</td>\n",
       "    </tr>\n",
       "    <tr>\n",
       "      <th>1</th>\n",
       "      <td>M</td>\n",
       "      <td>AMBEDKAR NAGAR</td>\n",
       "      <td>84.91</td>\n",
       "      <td>2016-08-07</td>\n",
       "      <td>88.0</td>\n",
       "      <td>20</td>\n",
       "    </tr>\n",
       "    <tr>\n",
       "      <th>2</th>\n",
       "      <td>F</td>\n",
       "      <td>NEW DELHI</td>\n",
       "      <td>15147.88</td>\n",
       "      <td>2016-10-21</td>\n",
       "      <td>1000.0</td>\n",
       "      <td>42</td>\n",
       "    </tr>\n",
       "    <tr>\n",
       "      <th>3</th>\n",
       "      <td>F</td>\n",
       "      <td>NAVI MUMBAI</td>\n",
       "      <td>10577.72</td>\n",
       "      <td>2016-10-21</td>\n",
       "      <td>1045.0</td>\n",
       "      <td>32</td>\n",
       "    </tr>\n",
       "    <tr>\n",
       "      <th>4</th>\n",
       "      <td>M</td>\n",
       "      <td>BENGALURU</td>\n",
       "      <td>3040.43</td>\n",
       "      <td>2016-10-21</td>\n",
       "      <td>295.0</td>\n",
       "      <td>28</td>\n",
       "    </tr>\n",
       "  </tbody>\n",
       "</table>\n",
       "</div>"
      ],
      "text/plain": [
       "  CustGender    CustLocation  CustAccountBalance TransactionDate  \\\n",
       "0          M           DUBAI             6190.71      2016-08-01   \n",
       "1          M  AMBEDKAR NAGAR               84.91      2016-08-07   \n",
       "2          F       NEW DELHI            15147.88      2016-10-21   \n",
       "3          F     NAVI MUMBAI            10577.72      2016-10-21   \n",
       "4          M       BENGALURU             3040.43      2016-10-21   \n",
       "\n",
       "   TransactionAmount (INR)  CustomerAge  \n",
       "0                    878.0           49  \n",
       "1                     88.0           20  \n",
       "2                   1000.0           42  \n",
       "3                   1045.0           32  \n",
       "4                    295.0           28  "
      ]
     },
     "execution_count": 90,
     "metadata": {},
     "output_type": "execute_result"
    }
   ],
   "source": [
    "df = sdf_cleaned.toPandas()\n",
    "df.head()"
   ]
  },
  {
   "cell_type": "code",
   "execution_count": 91,
   "id": "e713e6f6",
   "metadata": {},
   "outputs": [],
   "source": [
    "df['TransactionDate'] = pd.to_datetime(df['TransactionDate'], dayfirst=True)"
   ]
  },
  {
   "cell_type": "code",
   "execution_count": 92,
   "id": "0e839b06",
   "metadata": {},
   "outputs": [],
   "source": [
    "df2 = df.copy()\n",
    "df2.set_index('TransactionDate', inplace=True)"
   ]
  },
  {
   "cell_type": "code",
   "execution_count": 93,
   "id": "8bf0ea01",
   "metadata": {},
   "outputs": [
    {
     "data": {
      "text/html": [
       "<div>\n",
       "<style scoped>\n",
       "    .dataframe tbody tr th:only-of-type {\n",
       "        vertical-align: middle;\n",
       "    }\n",
       "\n",
       "    .dataframe tbody tr th {\n",
       "        vertical-align: top;\n",
       "    }\n",
       "\n",
       "    .dataframe thead th {\n",
       "        text-align: right;\n",
       "    }\n",
       "</style>\n",
       "<table border=\"1\" class=\"dataframe\">\n",
       "  <thead>\n",
       "    <tr style=\"text-align: right;\">\n",
       "      <th></th>\n",
       "      <th>CustGender</th>\n",
       "      <th>CustLocation</th>\n",
       "      <th>CustAccountBalance</th>\n",
       "      <th>TransactionAmount (INR)</th>\n",
       "      <th>CustomerAge</th>\n",
       "    </tr>\n",
       "    <tr>\n",
       "      <th>TransactionDate</th>\n",
       "      <th></th>\n",
       "      <th></th>\n",
       "      <th></th>\n",
       "      <th></th>\n",
       "      <th></th>\n",
       "    </tr>\n",
       "  </thead>\n",
       "  <tbody>\n",
       "    <tr>\n",
       "      <th>2016-08-01</th>\n",
       "      <td>M</td>\n",
       "      <td>DUBAI</td>\n",
       "      <td>6190.71</td>\n",
       "      <td>878.0</td>\n",
       "      <td>49</td>\n",
       "    </tr>\n",
       "    <tr>\n",
       "      <th>2016-08-07</th>\n",
       "      <td>M</td>\n",
       "      <td>AMBEDKAR NAGAR</td>\n",
       "      <td>84.91</td>\n",
       "      <td>88.0</td>\n",
       "      <td>20</td>\n",
       "    </tr>\n",
       "    <tr>\n",
       "      <th>2016-10-21</th>\n",
       "      <td>F</td>\n",
       "      <td>NEW DELHI</td>\n",
       "      <td>15147.88</td>\n",
       "      <td>1000.0</td>\n",
       "      <td>42</td>\n",
       "    </tr>\n",
       "    <tr>\n",
       "      <th>2016-10-21</th>\n",
       "      <td>F</td>\n",
       "      <td>NAVI MUMBAI</td>\n",
       "      <td>10577.72</td>\n",
       "      <td>1045.0</td>\n",
       "      <td>32</td>\n",
       "    </tr>\n",
       "    <tr>\n",
       "      <th>2016-10-21</th>\n",
       "      <td>M</td>\n",
       "      <td>BENGALURU</td>\n",
       "      <td>3040.43</td>\n",
       "      <td>295.0</td>\n",
       "      <td>28</td>\n",
       "    </tr>\n",
       "  </tbody>\n",
       "</table>\n",
       "</div>"
      ],
      "text/plain": [
       "                CustGender    CustLocation  CustAccountBalance  \\\n",
       "TransactionDate                                                  \n",
       "2016-08-01               M           DUBAI             6190.71   \n",
       "2016-08-07               M  AMBEDKAR NAGAR               84.91   \n",
       "2016-10-21               F       NEW DELHI            15147.88   \n",
       "2016-10-21               F     NAVI MUMBAI            10577.72   \n",
       "2016-10-21               M       BENGALURU             3040.43   \n",
       "\n",
       "                 TransactionAmount (INR)  CustomerAge  \n",
       "TransactionDate                                        \n",
       "2016-08-01                         878.0           49  \n",
       "2016-08-07                          88.0           20  \n",
       "2016-10-21                        1000.0           42  \n",
       "2016-10-21                        1045.0           32  \n",
       "2016-10-21                         295.0           28  "
      ]
     },
     "execution_count": 93,
     "metadata": {},
     "output_type": "execute_result"
    }
   ],
   "source": [
    "df2.head()"
   ]
  },
  {
   "cell_type": "code",
   "execution_count": 94,
   "id": "dec093d5",
   "metadata": {},
   "outputs": [],
   "source": [
    "daily_total = df2.groupby(pd.Grouper(freq='W'))['TransactionAmount (INR)'].sum()"
   ]
  },
  {
   "cell_type": "code",
   "execution_count": 95,
   "id": "2048227b",
   "metadata": {
    "scrolled": false
   },
   "outputs": [
    {
     "data": {
      "image/png": "[encoded data removed]",
      "text/plain": [
       "<Figure size 800x600 with 1 Axes>"
      ]
     },
     "metadata": {},
     "output_type": "display_data"
    }
   ],
   "source": [
    "fig = plt.subplots(figsize = (8, 6))\n",
    "daily_total.plot(color='blue', linestyle='solid')\n",
    "plt.title('Weekly Transaction Totals')\n",
    "plt.xlabel('Date')\n",
    "plt.ylabel('Transaction Amount ($)')\n",
    "plt.show()"
   ]
  },
  {
   "cell_type": "markdown",
   "id": "21004afa-b35c-43b4-8e13-907e461b959d",
   "metadata": {},
   "source": [
    "### Now let us try to acheive the Encoding in a few specific columns.\n",
    "\n",
    "##### StringIndexer comes in handy for PySpark if we need to have Numbers(Float Values) assigned to Strings\n",
    "##### Again now we can go ahead and drop the CustGender Column"
   ]
  },
  {
   "cell_type": "markdown",
   "id": "a4d36c1a-790c-4308-97d5-64e39554a293",
   "metadata": {},
   "source": [
    "#### Encoding the CustGender column"
   ]
  },
  {
   "cell_type": "code",
   "execution_count": 96,
   "id": "1bfac6ab",
   "metadata": {
    "scrolled": true
   },
   "outputs": [
    {
     "name": "stdout",
     "output_type": "stream",
     "text": [
      "+----------+------+\n",
      "|CustGender| count|\n",
      "+----------+------+\n",
      "|         F|263326|\n",
      "|         M|683155|\n",
      "+----------+------+\n",
      "\n"
     ]
    }
   ],
   "source": [
    "sdf_cleaned.groupBy(\"CustGender\").count().show() # To check the the distribution of Gender with respect to the number of transactions done!"
   ]
  },
  {
   "cell_type": "code",
   "execution_count": 97,
   "id": "34bb787c-6f23-4475-9ef3-237e754fe949",
   "metadata": {
    "scrolled": false
   },
   "outputs": [
    {
     "name": "stdout",
     "output_type": "stream",
     "text": [
      "+--------------+------------------+---------------+-----------------------+-----------+-------------+\n",
      "|  CustLocation|CustAccountBalance|TransactionDate|TransactionAmount (INR)|CustomerAge|GenderEncoded|\n",
      "+--------------+------------------+---------------+-----------------------+-----------+-------------+\n",
      "|         DUBAI|           6190.71|     2016-08-01|                  878.0|         49|            0|\n",
      "|AMBEDKAR NAGAR|             84.91|     2016-08-07|                   88.0|         20|            0|\n",
      "|     NEW DELHI|          15147.88|     2016-10-21|                 1000.0|         42|            1|\n",
      "|   NAVI MUMBAI|          10577.72|     2016-10-21|                 1045.0|         32|            1|\n",
      "|     BENGALURU|           3040.43|     2016-10-21|                  295.0|         28|            0|\n",
      "+--------------+------------------+---------------+-----------------------+-----------+-------------+\n",
      "only showing top 5 rows\n",
      "\n"
     ]
    }
   ],
   "source": [
    "indexer = StringIndexer(inputCol='CustGender', outputCol='GenderEncoded')\n",
    "sdf_cleaned = indexer.fit(sdf_cleaned).transform(sdf_cleaned)\n",
    "sdf_cleaned = sdf_cleaned.withColumn('GenderEncoded', col('GenderEncoded').cast(IntegerType()))\n",
    "sdf_cleaned = sdf_cleaned.drop(\"CustGender\")\n",
    "sdf_cleaned.show(5)"
   ]
  },
  {
   "cell_type": "code",
   "execution_count": 98,
   "id": "8f721be4",
   "metadata": {
    "scrolled": true
   },
   "outputs": [
    {
     "name": "stdout",
     "output_type": "stream",
     "text": [
      "+-------------+------+\n",
      "|GenderEncoded| count|\n",
      "+-------------+------+\n",
      "|            1|263326|\n",
      "|            0|683155|\n",
      "+-------------+------+\n",
      "\n"
     ]
    }
   ],
   "source": [
    "sdf_cleaned.groupBy(\"GenderEncoded\").count().show() # To check the the distribution of Gender with respect to the number of transactions done!"
   ]
  },
  {
   "cell_type": "markdown",
   "id": "469cf009-9c69-409a-a094-00f880f147f9",
   "metadata": {},
   "source": [
    "#### Endcoding the CustLocation Column"
   ]
  },
  {
   "cell_type": "code",
   "execution_count": 99,
   "id": "0cf64042-1de4-427e-869a-288e45ef0a5a",
   "metadata": {},
   "outputs": [
    {
     "name": "stdout",
     "output_type": "stream",
     "text": [
      "+------------------+---------------+-----------------------+-----------+-------------+---------------+\n",
      "|CustAccountBalance|TransactionDate|TransactionAmount (INR)|CustomerAge|GenderEncoded|LocationEncoded|\n",
      "+------------------+---------------+-----------------------+-----------+-------------+---------------+\n",
      "|           6190.71|     2016-08-01|                  878.0|         49|            0|            173|\n",
      "|             84.91|     2016-08-07|                   88.0|         20|            0|            665|\n",
      "|          15147.88|     2016-10-21|                 1000.0|         42|            1|              2|\n",
      "|          10577.72|     2016-10-21|                 1045.0|         32|            1|             12|\n",
      "|           3040.43|     2016-10-21|                  295.0|         28|            0|             45|\n",
      "+------------------+---------------+-----------------------+-----------+-------------+---------------+\n",
      "only showing top 5 rows\n",
      "\n"
     ]
    }
   ],
   "source": [
    "indexer_location = StringIndexer(inputCol='CustLocation', outputCol='LocationEncoded')\n",
    "sdf_cleaned = indexer_location.fit(sdf_cleaned).transform(sdf_cleaned)\n",
    "sdf_cleaned = sdf_cleaned.withColumn('LocationEncoded', col('LocationEncoded').cast(IntegerType()))\n",
    "sdf_cleaned = sdf_cleaned.drop(\"CustLocation\")\n",
    "sdf_cleaned.show(5)"
   ]
  },
  {
   "cell_type": "code",
   "execution_count": 107,
   "id": "bd3e4392-e915-4f41-bcab-3e9ae33415b1",
   "metadata": {},
   "outputs": [
    {
     "name": "stdout",
     "output_type": "stream",
     "text": [
      "+------------------+---------------+-----------------------+-----------+-------------+---------------+--------------------+--------------------+\n",
      "|CustAccountBalance|TransactionDate|TransactionAmount (INR)|CustomerAge|GenderEncoded|LocationEncoded|            features|     scaled_features|\n",
      "+------------------+---------------+-----------------------+-----------+-------------+---------------+--------------------+--------------------+\n",
      "|           6190.71|     2016-08-01|                  878.0|         49|            0|            173|[6190.71,878.0,49.0]|[5.38156505052500...|\n",
      "|             84.91|     2016-08-07|                   88.0|         20|            0|            665|   [84.91,88.0,20.0]|[7.38120003101547...|\n",
      "|          15147.88|     2016-10-21|                 1000.0|         42|            1|              2|[15147.88,1000.0,...|[1.31680052203295...|\n",
      "|          10577.72|     2016-10-21|                 1045.0|         32|            1|             12|[10577.72,1045.0,...|[9.19517927123695...|\n",
      "|           3040.43|     2016-10-21|                  295.0|         28|            0|             45|[3040.43,295.0,28.0]|[2.64303639268641...|\n",
      "+------------------+---------------+-----------------------+-----------+-------------+---------------+--------------------+--------------------+\n",
      "only showing top 5 rows\n",
      "\n"
     ]
    }
   ],
   "source": [
    "ip_columns = ['CustAccountBalance','TransactionAmount (INR)','CustomerAge']\n",
    "assembler = VectorAssembler(inputCols=ip_columns, outputCol=\"features\")# Assemble features into a Vector column\n",
    "df = assembler.transform(sdf_cleaned)\n",
    "scaler = MinMaxScaler(inputCol=\"features\", outputCol=\"scaled_features\") # Initialize the MinMaxScaler\n",
    "scaler_model = scaler.fit(df)\n",
    "sdf_scaled = scaler_model.transform(df)# Fit and transform the data using the scaler\n",
    "sdf_scaled.show(5)# Show the scaled data"
   ]
  },
  {
   "cell_type": "markdown",
   "id": "f5684f81",
   "metadata": {},
   "source": [
    "###### Creating a final Dataset that will be passed to the model"
   ]
  },
  {
   "cell_type": "code",
   "execution_count": 108,
   "id": "88f3b950-81b0-45d3-ba57-a5d7def07cef",
   "metadata": {},
   "outputs": [
    {
     "name": "stdout",
     "output_type": "stream",
     "text": [
      "+-------------+---------------+----------------------------------------------------------------+\n",
      "|GenderEncoded|LocationEncoded|scaled_features                                                 |\n",
      "+-------------+---------------+----------------------------------------------------------------+\n",
      "|0            |173            |[5.381565050525001E-5,5.628078893281746E-4,0.4714285714285714]  |\n",
      "|0            |665            |[7.38120003101547E-7,5.6408991185511806E-5,0.05714285714285714] |\n",
      "|1            |2              |[1.3168005220329598E-4,6.410112634717252E-4,0.37142857142857144]|\n",
      "|1            |12             |[9.195179271236952E-5,6.698567703279527E-4,0.22857142857142856] |\n",
      "|0            |45             |[2.643036392686417E-5,1.890983227241589E-4,0.17142857142857143] |\n",
      "+-------------+---------------+----------------------------------------------------------------+\n",
      "only showing top 5 rows\n",
      "\n"
     ]
    }
   ],
   "source": [
    "final_data = sdf_scaled.drop(\"CustAccountBalance\",\"TransactionDate\",\"TransactionAmount (INR)\",\"CustomerAge\",\"features\")\n",
    "final_data.show(5,truncate=False)"
   ]
  },
  {
   "cell_type": "code",
   "execution_count": 109,
   "id": "dbf8113a",
   "metadata": {},
   "outputs": [],
   "source": [
    "# Select the features to be used for clustering and assemble them into a vector column\n",
    "feature_cols = [\"scaled_features\"]  # Replace with your feature column names\n",
    "assembler = VectorAssembler(inputCols=feature_cols, outputCol=\"features\")\n",
    "data = assembler.transform(final_data)"
   ]
  },
  {
   "cell_type": "code",
   "execution_count": 110,
   "id": "5494b013",
   "metadata": {},
   "outputs": [],
   "source": [
    "data=data.drop(\"scaled_features\")"
   ]
  },
  {
   "cell_type": "code",
   "execution_count": 111,
   "id": "3ddeaf89",
   "metadata": {},
   "outputs": [
    {
     "name": "stdout",
     "output_type": "stream",
     "text": [
      "+-------------+---------------+--------------------+\n",
      "|GenderEncoded|LocationEncoded|            features|\n",
      "+-------------+---------------+--------------------+\n",
      "|            0|            173|[5.38156505052500...|\n",
      "|            0|            665|[7.38120003101547...|\n",
      "|            1|              2|[1.31680052203295...|\n",
      "|            1|             12|[9.19517927123695...|\n",
      "|            0|             45|[2.64303639268641...|\n",
      "+-------------+---------------+--------------------+\n",
      "only showing top 5 rows\n",
      "\n"
     ]
    }
   ],
   "source": [
    "data.show(5)"
   ]
  },
  {
   "cell_type": "code",
   "execution_count": 113,
   "id": "802293f8",
   "metadata": {},
   "outputs": [
    {
     "data": {
      "image/png": "[encoded data removed]",
      "text/plain": [
       "<Figure size 640x480 with 1 Axes>"
      ]
     },
     "metadata": {},
     "output_type": "display_data"
    }
   ],
   "source": [
    "# Calculate WCSS for different numbers of clusters\n",
    "wcss = []\n",
    "for i in range(2, 10):\n",
    "    kmeans = KMeans().setK(i).setSeed(49)\n",
    "    model = kmeans.fit(data)\n",
    "    wcss.append(model.summary.trainingCost)  # Equivalent to Sklearns ._inertia\n",
    "\n",
    "# Plot the Elbow Method graph\n",
    "plt.plot(range(2, 10), wcss, marker='*', color='r')\n",
    "plt.title('The Elbow Method')\n",
    "plt.xlabel('Number of clusters')\n",
    "plt.ylabel('WCSS')\n",
    "plt.show()\n"
   ]
  },
  {
   "cell_type": "code",
   "execution_count": 114,
   "id": "88d2cde1-c677-43ce-bfa9-cf1743845bbc",
   "metadata": {},
   "outputs": [
    {
     "data": {
      "image/png": "[encoded data removed]",
      "text/plain": [
       "<Figure size 640x480 with 1 Axes>"
      ]
     },
     "metadata": {},
     "output_type": "display_data"
    }
   ],
   "source": [
    "range_n_clusters=[2,3,4,5,6,7,8,9,10]\n",
    "silhouette_scores = []\n",
    "for num_clusters in range_n_clusters:\n",
    "    kmeans = KMeans().setK(num_clusters).setSeed(49)\n",
    "    model = kmeans.fit(data)\n",
    "    predictions = model.transform(data)\n",
    "    evaluator = ClusteringEvaluator()\n",
    "    silhouette_score = evaluator.evaluate(predictions)\n",
    "    silhouette_scores.append(silhouette_score)\n",
    "\n",
    "# Plot the Silhouette Analysis graph\n",
    "plt.plot(range_n_clusters, silhouette_scores, 'bx-')\n",
    "plt.xlabel('Values of K')\n",
    "plt.ylabel('Silhouette Score')\n",
    "plt.title('Silhouette Analysis For Optimal K')\n",
    "plt.show()"
   ]
  },
  {
   "cell_type": "code",
   "execution_count": 115,
   "id": "3c547946",
   "metadata": {},
   "outputs": [
    {
     "name": "stdout",
     "output_type": "stream",
     "text": [
      "+-------------+---------------+--------------------+----------+\n",
      "|GenderEncoded|LocationEncoded|            features|prediction|\n",
      "+-------------+---------------+--------------------+----------+\n",
      "|            0|            173|[5.38156505052500...|         1|\n",
      "|            0|            665|[7.38120003101547...|         0|\n",
      "|            1|              2|[1.31680052203295...|         1|\n",
      "|            1|             12|[9.19517927123695...|         0|\n",
      "|            0|             45|[2.64303639268641...|         0|\n",
      "|            1|            707|[8.51302460296013...|         0|\n",
      "|            0|           2890|[0.00152697043505...|         1|\n",
      "|            0|              2|[0.00267142528254...|         0|\n",
      "|            0|           3746|[0.00134330764487...|         1|\n",
      "|            1|              4|[8.80194412272321...|         0|\n",
      "|            0|            460|[9.96307269337775...|         1|\n",
      "|            1|             28|[2.93641279768786...|         0|\n",
      "|            0|              5|[2.58248638597809...|         0|\n",
      "|            0|            107|[4.42228461361227...|         0|\n",
      "|            1|             28|[7.55712833890345...|         0|\n",
      "|            0|              2|[2.75889628435215...|         0|\n",
      "|            0|             22|[1.51327900878482...|         0|\n",
      "|            1|              1|[9.89633676988451...|         0|\n",
      "|            0|              2|[1.27919212997762...|         0|\n",
      "|            0|              1|[3.60540022572563...|         0|\n",
      "+-------------+---------------+--------------------+----------+\n",
      "only showing top 20 rows\n",
      "\n"
     ]
    }
   ],
   "source": [
    "kmeans = KMeans().setK(2).setSeed(49)\n",
    "model = kmeans.fit(data)\n",
    "predictions = model.transform(data)\n",
    "predictions.show()"
   ]
  },
  {
   "cell_type": "code",
   "execution_count": 116,
   "id": "7e3406a5",
   "metadata": {},
   "outputs": [],
   "source": [
    "DF1 = sdf_cleaned_backup.withColumn(\"row_id\", monotonically_increasing_id())\n",
    "DF2 = predictions.withColumn(\"row_id\", monotonically_increasing_id())"
   ]
  },
  {
   "cell_type": "code",
   "execution_count": 117,
   "id": "8cc40fff",
   "metadata": {},
   "outputs": [],
   "source": [
    "result_df = DF1.join(DF2, (\"row_id\")).drop(\"row_id\")"
   ]
  },
  {
   "cell_type": "code",
   "execution_count": 118,
   "id": "7165b9d3",
   "metadata": {},
   "outputs": [
    {
     "name": "stdout",
     "output_type": "stream",
     "text": [
      "+----------+--------------------+------------------+---------------+-----------------------+-----------+-------------+---------------+--------------------+----------+\n",
      "|CustGender|        CustLocation|CustAccountBalance|TransactionDate|TransactionAmount (INR)|CustomerAge|GenderEncoded|LocationEncoded|            features|prediction|\n",
      "+----------+--------------------+------------------+---------------+-----------------------+-----------+-------------+---------------+--------------------+----------+\n",
      "|         M|               DUBAI|           6190.71|     2016-08-01|                  878.0|         49|            0|            173|[5.38156505052500...|         1|\n",
      "|         M|           NEW DELHI|         307308.73|     2016-10-21|                51750.0|         25|            0|              2|[0.00267142528254...|         0|\n",
      "|         M|           BANGALORE|           4147.49|     2016-09-22|                   30.0|         26|            0|              1|[3.60540022572563...|         0|\n",
      "|         M|            KOLHAPUR|            5701.2|     2016-09-22|                   10.0|         25|            0|             57|[4.95603552194386...|         0|\n",
      "|         F|D MART KANJURMARG...|          17133.53|     2016-09-22|                   40.0|         30|            1|           1315|[1.48941246222358...|         0|\n",
      "+----------+--------------------+------------------+---------------+-----------------------+-----------+-------------+---------------+--------------------+----------+\n",
      "only showing top 5 rows\n",
      "\n"
     ]
    }
   ],
   "source": [
    "result_df.show(5)"
   ]
  },
  {
   "cell_type": "code",
   "execution_count": 119,
   "id": "2fcbe4f2",
   "metadata": {},
   "outputs": [],
   "source": [
    "result_df = result_df.drop('features')"
   ]
  },
  {
   "cell_type": "code",
   "execution_count": 120,
   "id": "28672693",
   "metadata": {},
   "outputs": [
    {
     "name": "stdout",
     "output_type": "stream",
     "text": [
      "+----------+--------------------+------------------+---------------+-----------------------+-----------+-------------+---------------+----------+\n",
      "|CustGender|        CustLocation|CustAccountBalance|TransactionDate|TransactionAmount (INR)|CustomerAge|GenderEncoded|LocationEncoded|prediction|\n",
      "+----------+--------------------+------------------+---------------+-----------------------+-----------+-------------+---------------+----------+\n",
      "|         M|               DUBAI|           6190.71|     2016-08-01|                  878.0|         49|            0|            173|         1|\n",
      "|         M|           NEW DELHI|         307308.73|     2016-10-21|                51750.0|         25|            0|              2|         0|\n",
      "|         M|           BANGALORE|           4147.49|     2016-09-22|                   30.0|         26|            0|              1|         0|\n",
      "|         M|            KOLHAPUR|            5701.2|     2016-09-22|                   10.0|         25|            0|             57|         0|\n",
      "|         F|D MART KANJURMARG...|          17133.53|     2016-09-22|                   40.0|         30|            1|           1315|         0|\n",
      "|         M|         DHARAMSHALA|           34841.8|     2016-09-22|                  804.0|         49|            0|            289|         1|\n",
      "|         M|               NOIDA|            151.74|     2016-09-26|                  795.0|         36|            0|              5|         1|\n",
      "|         F|             CHENNAI|         929176.41|     2016-09-26|                 2726.0|         35|            1|              6|         0|\n",
      "|         M|           FEROZEPUR|          13763.49|     2016-09-26|                 1500.0|         28|            0|            186|         0|\n",
      "|         F|              MUMBAI|         401786.72|     2016-09-23|                  14.88|         25|            1|              0|         0|\n",
      "|         M|          SRIKAKULAM|           8966.44|     2016-09-26|                  100.0|         28|            0|            171|         0|\n",
      "|         M|              MUMBAI|             26.46|     2016-09-26|                  240.0|         32|            0|              0|         0|\n",
      "|         M|              MUMBAI|          41059.57|     2016-09-25|                  840.0|         29|            0|              0|         0|\n",
      "|         M|                PUNE|          25672.31|     2016-09-30|                  170.0|         32|            0|              7|         0|\n",
      "|         M|             GURGAON|          12589.73|     2016-08-03|                  200.0|         48|            0|              3|         1|\n",
      "|         F|               DELHI|             76.27|     2016-08-03|                   30.0|         26|            1|              4|         0|\n",
      "|         M|           NEW DELHI|            369.52|     2016-08-03|                   60.0|         26|            0|              2|         0|\n",
      "|         F|FORUM MALL HYDERABAD|           9641.05|     2016-08-03|                 3022.0|         24|            1|           2083|         0|\n",
      "|         M|              MUMBAI|         223327.57|     2016-08-03|                 468.32|         28|            0|              0|         0|\n",
      "|         M|             GURGAON|          120296.3|     2016-08-03|                 4474.0|         45|            0|              3|         1|\n",
      "+----------+--------------------+------------------+---------------+-----------------------+-----------+-------------+---------------+----------+\n",
      "only showing top 20 rows\n",
      "\n"
     ]
    }
   ],
   "source": [
    "result_df.show()"
   ]
  },
  {
   "cell_type": "markdown",
   "id": "2714019d",
   "metadata": {},
   "source": [
    "### EXPORTED TO LOCAL FILE AS CSV"
   ]
  },
  {
   "cell_type": "code",
   "execution_count": 121,
   "id": "8e99f947",
   "metadata": {},
   "outputs": [],
   "source": [
    "result_df.toPandas().to_csv(r\"C:\\Users\\saswa\\OneDrive\\Desktop\\pruject\\BankCustomerSegmentation\\CustomerClusters.csv\")"
   ]
  },
  {
   "cell_type": "markdown",
   "id": "abeee76d",
   "metadata": {},
   "source": [
    "### BisectingKmeans equivalent to hierarchial clustering in ML"
   ]
  },
  {
   "cell_type": "code",
   "execution_count": 96,
   "id": "ec6b451d-3ad4-42b7-9b98-9726fd33569f",
   "metadata": {},
   "outputs": [
    {
     "name": "stdout",
     "output_type": "stream",
     "text": [
      "+--------------------+----------+\n",
      "|            features|prediction|\n",
      "+--------------------+----------+\n",
      "|[5.38156505052500...|         0|\n",
      "|[7.38120003101547...|         0|\n",
      "|[1.31680052203295...|         1|\n",
      "|[9.19517927123695...|         1|\n",
      "|[2.64303639268641...|         0|\n",
      "|[8.51302460296013...|         1|\n",
      "|[0.00152697043505...|         0|\n",
      "|[0.00267142528254...|         0|\n",
      "|[0.00134330764487...|         0|\n",
      "|[8.80194412272321...|         1|\n",
      "|[9.96307269337775...|         0|\n",
      "|[2.93641279768786...|         1|\n",
      "|[2.58248638597809...|         0|\n",
      "|[4.42228461361227...|         0|\n",
      "|[7.55712833890345...|         1|\n",
      "|[2.75889628435215...|         0|\n",
      "|[1.51327900878482...|         0|\n",
      "|[9.89633676988451...|         1|\n",
      "|[1.27919212997762...|         0|\n",
      "|[3.60540022572563...|         0|\n",
      "+--------------------+----------+\n",
      "only showing top 20 rows\n",
      "\n"
     ]
    }
   ],
   "source": [
    "# Train a BisectingKMeans model\n",
    "k = 2  # Number of clusters\n",
    "bkm = BisectingKMeans().setK(k).setSeed(42)\n",
    "model_2 = bkm.fit(data)\n",
    "\n",
    "# Transform the data with cluster assignments\n",
    "clustered_data = model_2.transform(data)\n",
    "\n",
    "# Display the clustered data\n",
    "clustered_data.show()"
   ]
  },
  {
   "cell_type": "code",
   "execution_count": 100,
   "id": "88ea907f",
   "metadata": {},
   "outputs": [],
   "source": [
    "DF1_bkk = sdf_cleaned_backup.withColumn(\"row_id\", monotonically_increasing_id())\n",
    "DF2_bkk = clustered_data.withColumn(\"row_id\", monotonically_increasing_id())\n",
    "result_df_bkk = DF1_bkk.join(DF2_bkk, (\"row_id\")).drop(\"row_id\")\n",
    "result_df_bkk.toPandas().to_csv(r\"C:\\Users\\piyus\\Desktop\\BankCustomerSegmentation\\BankCustomerSegmentation\\Results\\CustomerClustersbkk.csv\")"
   ]
  },
  {
   "cell_type": "code",
   "execution_count": null,
   "id": "4e7ef984",
   "metadata": {},
   "outputs": [],
   "source": []
  }
 ],
 "metadata": {
  "kernelspec": {
   "display_name": "Python 3 (ipykernel)",
   "language": "python",
   "name": "python3"
  },
  "language_info": {
   "codemirror_mode": {
    "name": "ipython",
    "version": 3
   },
   "file_extension": ".py",
   "mimetype": "text/x-python",
   "name": "python",
   "nbconvert_exporter": "python",
   "pygments_lexer": "ipython3",
   "version": "3.10.9"
  }
 },
 "nbformat": 4,
 "nbformat_minor": 5
}
